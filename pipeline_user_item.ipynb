{
 "cells": [
  {
   "cell_type": "code",
   "execution_count": 1,
   "metadata": {},
   "outputs": [
    {
     "data": {
      "text/plain": [
       "device(type='cuda', index=0)"
      ]
     },
     "execution_count": 1,
     "metadata": {},
     "output_type": "execute_result"
    }
   ],
   "source": [
    "from typing import Tuple, Dict, Any\n",
    "from preprocessing_utils import *\n",
    "from sklearn.feature_extraction.text import TfidfVectorizer\n",
    "from sklearn.preprocessing import StandardScaler\n",
    "import numpy as np\n",
    "from sklearn.model_selection import train_test_split\n",
    "from torch.utils.data import Dataset, DataLoader\n",
    "import torch\n",
    "from tqdm import tqdm\n",
    "from torch.optim import Adam\n",
    "from sklearn.metrics import mean_squared_error\n",
    "from sklearn.preprocessing import MinMaxScaler\n",
    "import random\n",
    "import wandb\n",
    "import torch.nn as nn\n",
    "import torch.nn.functional as F\n",
    "\n",
    "\n",
    "\n",
    "device = torch.device(\"cuda:0\" if torch.cuda.is_available() else \"mps\")\n",
    "\n",
    "#user_item_path = '/Volumes/DeepLearner/Search & Recommendation System/Data/australian_users_items_clean.json'\n",
    "device\n"
   ]
  },
  {
   "cell_type": "code",
   "execution_count": 2,
   "metadata": {},
   "outputs": [],
   "source": [
    "user_item_path = '/notebooks/australian_users_items_clean.json'"
   ]
  },
  {
   "cell_type": "code",
   "execution_count": 3,
   "metadata": {},
   "outputs": [],
   "source": [
    "def create_mappings(df, column):\n",
    "    unique_ids = sorted(df[column].unique())  # Sorting added here\n",
    "    print(f\"Number of unique {column}: {len(unique_ids)}\")\n",
    "    id_to_idx = {id_: idx for idx, id_ in enumerate(unique_ids)}\n",
    "    return id_to_idx\n",
    "\n",
    "class SimplifiedSteamDataset(Dataset):\n",
    "    def __init__(self, user_item_df, user_mapping, item_mapping):\n",
    "        self.df = user_item_df.copy()\n",
    "        \n",
    "        self.df['user_idx'] = self.df['user_id'].map(user_mapping)\n",
    "        self.df['item_idx'] = self.df['item_id'].map(item_mapping)\n",
    "        \n",
    "        print(f\"Missing user_idx: {self.df['user_idx'].isna().sum()}\")\n",
    "        print(f\"Missing item_idx: {self.df['item_idx'].isna().sum()}\")\n",
    "        \n",
    "        # Scaling playtime\n",
    "        self.scaler = MinMaxScaler(feature_range=(0, 1))\n",
    "        self.y = self.scaler.fit_transform(self.df['playtime_forever'].values.reshape(-1, 1)).flatten()\n",
    "        \n",
    "        self.user_idxs = self.df['user_idx'].values\n",
    "        self.item_idxs = self.df['item_idx'].values\n",
    "    \n",
    "    def __len__(self):\n",
    "        return len(self.df)\n",
    "    \n",
    "    def __getitem__(self, idx):\n",
    "        return self.y[idx], self.user_idxs[idx], self.item_idxs[idx]"
   ]
  },
  {
   "cell_type": "code",
   "execution_count": 4,
   "metadata": {},
   "outputs": [],
   "source": [
    "def prepare_simple_data_loaders(user_item_path, batch_size=32):\n",
    "    # Load data\n",
    "    user_item_df = load_json_to_df(user_item_path)\n",
    "    user_item_df.sort_values(by=['user_id', 'playtime_forever'], ascending=[True, False], inplace=True)\n",
    "    \n",
    "    # Drop duplicates based on 'user_id' and 'item_id'\n",
    "    #user_item_df.drop_duplicates(subset=['user_id', 'item_id'], inplace=True)\n",
    "    def test_mapping(mapping, unique_ids):\n",
    "        # Test 1: Ensure every unique ID has a mapping\n",
    "        for unique_id in unique_ids:\n",
    "            assert unique_id in mapping, f\"{unique_id} not found in mapping\"\n",
    "\n",
    "        # Test 2: Ensure reverse mapping is consistent\n",
    "        reverse_mapping = {v: k for k, v in mapping.items()}\n",
    "        for unique_id in unique_ids:\n",
    "            idx = mapping[unique_id]\n",
    "            assert reverse_mapping[idx] == unique_id, f\"Inconsistent mapping for {unique_id}\"\n",
    "    \n",
    "    # Create mappings\n",
    "    user_mapping = create_mappings(user_item_df, 'user_id')\n",
    "    item_mapping = create_mappings(user_item_df, 'item_id')\n",
    "\n",
    "    test_mapping(user_mapping, user_item_df['user_id'].unique())\n",
    "    test_mapping(item_mapping, user_item_df['item_id'].unique())\n",
    "\n",
    "    # Create the final dataset using the new mappings\n",
    "    full_dataset = SimplifiedSteamDataset(user_item_df, user_mapping, item_mapping)\n",
    "\n",
    "    # Split into train, validation, and test sets\n",
    "    train_size = int(0.7 * len(full_dataset))\n",
    "    val_size = int(0.15 * len(full_dataset))\n",
    "    test_size = len(full_dataset) - train_size - val_size\n",
    "\n",
    "    train_dataset, val_dataset, test_dataset = torch.utils.data.random_split(\n",
    "    full_dataset, [train_size, val_size, test_size], \n",
    "    generator=torch.Generator().manual_seed(42)  # set the seed for reproducibility\n",
    "    )\n",
    "\n",
    "# Create a DataFrame from val_dataset\n",
    "    val_data = [val_dataset[i] for i in range(len(val_dataset))]\n",
    "    val_df = pd.DataFrame(val_data, columns=['playtime_scaled', 'user_idx', 'item_idx'])\n",
    "    # Create DataLoader for each set\n",
    "    train_loader = DataLoader(train_dataset, batch_size=batch_size, shuffle=True)\n",
    "    val_loader = DataLoader(val_dataset, batch_size=batch_size, shuffle=False)\n",
    "    test_loader = DataLoader(test_dataset, batch_size=batch_size, shuffle=False)\n",
    "\n",
    "    # Extract the indices from val_dataset\n",
    "    val_indices = val_dataset.indices\n",
    "\n",
    "    # Create a validation DataFrame using these indices\n",
    "    val_df = full_dataset.df.iloc[val_indices].reset_index(drop=True)\n",
    "\n",
    "    return train_loader, val_loader, test_loader, user_mapping, item_mapping, full_dataset.df, val_df\n"
   ]
  },
  {
   "cell_type": "code",
   "execution_count": 5,
   "metadata": {},
   "outputs": [
    {
     "name": "stdout",
     "output_type": "stream",
     "text": [
      "Number of unique user_id: 70834\n",
      "Number of unique item_id: 10978\n",
      "Missing user_idx: 0\n",
      "Missing item_idx: 0\n"
     ]
    }
   ],
   "source": [
    "train_loader, val_loader, test_loader, user_mapping, item_mapping, user_item_df, val_df = prepare_simple_data_loaders(user_item_path)"
   ]
  },
  {
   "cell_type": "code",
   "execution_count": 6,
   "metadata": {},
   "outputs": [],
   "source": [
    "def get_actual_top_k_games(user_id, user_item_df, user_mapping, k=5):\n",
    "    \n",
    "    user_data = user_item_df[user_item_df['user_idx'] == user_id]\n",
    "    top_k_actual = user_data.sort_values(by='playtime_forever', ascending=False).head(k)\n",
    "    return top_k_actual['item_name'].tolist()\n",
    "\n",
    "def get_predicted_top_k_games(model, user_id, user_mapping, item_mapping, user_item_df, k=5):\n",
    "    model.eval()\n",
    "    \n",
    "    user_idx = torch.LongTensor([user_mapping[user_id]] * len(item_mapping)).to(device)    \n",
    "    # Convert item_mapping values to a tensor and move to the same device as the model\n",
    "    all_item_idxs = torch.LongTensor(list(item_mapping.values())).to(device)\n",
    "\n",
    "    # Make predictions\n",
    "    with torch.no_grad():\n",
    "        predictions = model(user_idx, all_item_idxs).cpu().numpy().flatten()\n",
    "\n",
    "    # Extract top-k items\n",
    "    top_k_indices = predictions.argsort()[-k:][::-1]\n",
    "    top_k_item_idxs = [list(item_mapping.values())[i] for i in top_k_indices]\n",
    "\n",
    "    top_k_item_names = [user_item_df.loc[user_item_df['item_idx'] == idx, 'item_name'].iloc[0] for idx in top_k_item_idxs]\n",
    "\n",
    "    return top_k_item_names\n",
    "\n",
    "def precision_at_k(y_true, y_pred, k, threshold=0.5):\n",
    "    # Sort by predicted score and take top k\n",
    "    top_k_indices = np.argsort(y_pred)[::-1][:k]\n",
    "    top_k_true = y_true[top_k_indices]\n",
    "    \n",
    "    # Count number of true positives in top k (playtime above threshold)\n",
    "    true_positives = np.sum(top_k_true > threshold)\n",
    "    \n",
    "    return true_positives / k\n",
    "\n",
    "def predict_for_random_user(model, user_mapping, item_mapping, user_item_df, k=5):\n",
    "    # Randomly select a user ID\n",
    "    random_user_id = random.choice(list(user_mapping.keys()))\n",
    "    print(random_user_id)\n",
    "    print(f\"Making predictions for random user {random_user_id}\")\n",
    "    # Check if the random_user_id exists in the DataFrame\n",
    "    print(random_user_id in user_item_df['user_id'].values)\n",
    "\n",
    "    \n",
    "    # Call the existing function to make predictions for this user\n",
    "    top_k_games = get_predicted_top_k_games(model, random_user_id, user_mapping, item_mapping, user_item_df, k)\n",
    "    \n",
    "    return random_user_id, top_k_games\n",
    "\n",
    "def recall_at_k(y_true, y_pred, k, threshold=0.5):\n",
    "    # Sort by predicted score and take top k\n",
    "    top_k_indices = np.argsort(y_pred)[::-1][:k]\n",
    "    top_k_true = y_true[top_k_indices]\n",
    "    \n",
    "    # Count number of true positives in top k (playtime above threshold)\n",
    "    true_positives = np.sum(top_k_true > threshold)\n",
    "    \n",
    "    # Count the total number of actual positives (relevant items)\n",
    "    total_actual_positives = np.sum(y_true > threshold)\n",
    "    \n",
    "    if total_actual_positives == 0:\n",
    "        return 0\n",
    "    \n",
    "    return true_positives / total_actual_positives\n"
   ]
  },
  {
   "cell_type": "code",
   "execution_count": 7,
   "metadata": {},
   "outputs": [],
   "source": [
    "import torch\n",
    "import torch.nn as nn\n",
    "import torch.nn.functional as F\n",
    "\n",
    "class NCF(nn.Module):\n",
    "    def __init__(self, num_users, num_items, embed_dim, layers=[16, 8], dropout=False):\n",
    "        super(NCF, self).__init__()\n",
    "        \n",
    "        self.num_users = num_users\n",
    "        self.num_items = num_items\n",
    "        self.embed_dim = embed_dim\n",
    "        \n",
    "        # GMF embeddings\n",
    "        self.user_gmf_embedding = nn.Embedding(num_users, embed_dim)\n",
    "        self.item_gmf_embedding = nn.Embedding(num_items, embed_dim)\n",
    "        \n",
    "        # MLP embeddings\n",
    "        self.user_mlp_embedding = nn.Embedding(num_users, layers[0] // 2)\n",
    "        self.item_mlp_embedding = nn.Embedding(num_items, layers[0] // 2)\n",
    "        \n",
    "        # MLP layers\n",
    "        mlp_modules = []\n",
    "        for i, (in_size, out_size) in enumerate(zip(layers[:-1], layers[1:])):\n",
    "            mlp_modules.append(nn.Linear(in_size, out_size))\n",
    "            mlp_modules.append(nn.ReLU())\n",
    "            if dropout:\n",
    "                mlp_modules.append(nn.Dropout(p=0.2))\n",
    "        self.mlp_layers = nn.Sequential(*mlp_modules)\n",
    "        \n",
    "        # Final prediction layer\n",
    "        self.prediction_layer = nn.Linear(layers[-1] + embed_dim, 1)\n",
    "        \n",
    "    def forward(self, user_indices, item_indices):\n",
    "        user_gmf_embed = self.user_gmf_embedding(user_indices)\n",
    "        item_gmf_embed = self.item_gmf_embedding(item_indices)\n",
    "        \n",
    "        user_mlp_embed = self.user_mlp_embedding(user_indices)\n",
    "        item_mlp_embed = self.item_mlp_embedding(item_indices)\n",
    "        \n",
    "        # GMF part\n",
    "        gmf_product = torch.mul(user_gmf_embed, item_gmf_embed)\n",
    "        \n",
    "        # MLP part\n",
    "        mlp_input = torch.cat([user_mlp_embed, item_mlp_embed], dim=1)\n",
    "        mlp_output = self.mlp_layers(mlp_input)\n",
    "        \n",
    "        # Final layer\n",
    "        final_input = torch.cat([gmf_product, mlp_output], dim=1)\n",
    "        prediction = self.prediction_layer(final_input)\n",
    "        \n",
    "        return prediction.squeeze(-1)\n"
   ]
  },
  {
   "cell_type": "code",
   "execution_count": 8,
   "metadata": {},
   "outputs": [
    {
     "name": "stderr",
     "output_type": "stream",
     "text": [
      "\u001b[34m\u001b[1mwandb\u001b[0m: Logging into wandb.ai. (Learn how to deploy a W&B server locally: https://wandb.me/wandb-server)\n",
      "\u001b[34m\u001b[1mwandb\u001b[0m: You can find your API key in your browser here: https://wandb.ai/authorize\n",
      "\u001b[34m\u001b[1mwandb\u001b[0m: Paste an API key from your profile and hit enter, or press ctrl+c to quit:\u001b[34m\u001b[1mwandb\u001b[0m: Appending key for api.wandb.ai to your netrc file: /root/.netrc\n"
     ]
    },
    {
     "data": {
      "text/html": [
       "wandb version 0.15.11 is available!  To upgrade, please run:\n",
       " $ pip install wandb --upgrade"
      ],
      "text/plain": [
       "<IPython.core.display.HTML object>"
      ]
     },
     "metadata": {},
     "output_type": "display_data"
    },
    {
     "data": {
      "text/html": [
       "Tracking run with wandb version 0.13.4"
      ],
      "text/plain": [
       "<IPython.core.display.HTML object>"
      ]
     },
     "metadata": {},
     "output_type": "display_data"
    },
    {
     "data": {
      "text/html": [
       "Run data is saved locally in <code>/notebooks/wandb/run-20230924_022709-37syoh5b</code>"
      ],
      "text/plain": [
       "<IPython.core.display.HTML object>"
      ]
     },
     "metadata": {},
     "output_type": "display_data"
    },
    {
     "data": {
      "text/html": [
       "Syncing run <strong><a href=\"https://wandb.ai/parkermoesta/Steam%20Rec%20Engine_vNew_200dim/runs/37syoh5b\" target=\"_blank\">cerulean-surf-1</a></strong> to <a href=\"https://wandb.ai/parkermoesta/Steam%20Rec%20Engine_vNew_200dim\" target=\"_blank\">Weights & Biases</a> (<a href=\"https://wandb.me/run\" target=\"_blank\">docs</a>)<br/>"
      ],
      "text/plain": [
       "<IPython.core.display.HTML object>"
      ]
     },
     "metadata": {},
     "output_type": "display_data"
    },
    {
     "data": {
      "text/html": [
       "<button onClick=\"this.nextSibling.style.display='block';this.style.display='none';\">Display W&B run</button><iframe src=\"https://wandb.ai/parkermoesta/Steam%20Rec%20Engine_vNew_200dim/runs/37syoh5b?jupyter=true\" style=\"border:none;width:100%;height:420px;display:none;\"></iframe>"
      ],
      "text/plain": [
       "<wandb.sdk.wandb_run.Run at 0x7f10283f7e20>"
      ]
     },
     "execution_count": 8,
     "metadata": {},
     "output_type": "execute_result"
    }
   ],
   "source": [
    "# Initialize wandb\n",
    "wandb.init(project=\"Steam Rec Engine_vNew_200dim\", config={\"learning_rate\": 0.001})"
   ]
  },
  {
   "cell_type": "code",
   "execution_count": 9,
   "metadata": {},
   "outputs": [
    {
     "name": "stderr",
     "output_type": "stream",
     "text": [
      "Training epoch 1: 100%|██████████| 112511/112511 [16:00<00:00, 117.16it/s]\n"
     ]
    },
    {
     "name": "stdout",
     "output_type": "stream",
     "text": [
      "Epoch 1 - Training loss: 0.0004021331169123971\n"
     ]
    },
    {
     "name": "stderr",
     "output_type": "stream",
     "text": [
      "Validating epoch 1: 100%|██████████| 24110/24110 [00:31<00:00, 754.28it/s]\n"
     ]
    },
    {
     "name": "stdout",
     "output_type": "stream",
     "text": [
      "Epoch 1 - Validation loss: 0.00013815338514148288, RMSE: 0.011753929748983908, Precision@5: 0.0\n",
      "babypanay\n",
      "Making predictions for random user babypanay\n",
      "True\n",
      "Actual games: ['Age of Mythology: Extended Edition', \"Garry's Mod\", 'The Elder Scrolls V: Skyrim', 'Age of Empires II: HD Edition', 'STAR WARS™ Empire at War: Gold Pack', 'Far Cry® 3', \"Sid Meier's Civilization V\", 'Grand Theft Auto IV', 'Need for Speed: Hot Pursuit', 'Terraria']\n",
      "Predicted games: ['Samantha Swift and the Golden Touch', 'Mimic Arena', 'Metro Last Light JP', '4 Elements', 'Nurse Love Addiction', 'Prominence', 'Run Rabbit Run', 'Unnamed Fiasco', 'Planetbase', 'MotoGP™13']\n",
      "76561198050010300\n",
      "Making predictions for random user 76561198050010300\n",
      "True\n",
      "Actual games: ['Total War: SHOGUN 2', 'The Sims(TM) 3', 'Farming Simulator 2011', 'Empire: Total War', 'Napoleon: Total War', 'Microsoft Flight', 'Theatre of War 2: Africa 1943', 'Demolition Company Gold', 'Medieval II: Total War', \"Garry's Mod\"]\n",
      "Predicted games: ['Valiant', \"Rogue's Tale\", 'Mind Zero', 'HALP!', \"Forge: Ymil's Revenge\", 'Blender: 7.5 3D Paint - Baking All Layers To 1', 'Wildlife Camp', 'Fluttabyes', 'Passing Pineview Forest', 'Push The Crate']\n",
      "pocobetrolling\n",
      "Making predictions for random user pocobetrolling\n",
      "True\n",
      "Actual games: ['MapleStory', 'Counter-Strike: Global Offensive', \"Garry's Mod\", 'Counter-Strike: Source', 'Dungeon Defenders', 'Terraria', 'The Elder Scrolls V: Skyrim', 'Left 4 Dead 2', 'Rocket League', \"AKIBA'S TRIP: Undead & Undressed\"]\n",
      "Predicted games: ['My Tribe ', 'Tony Tough and the Night of Roasted Moths', 'Reprisal Universe', 'Shred! Downhill Mountain Biking', 'Gal-X-E', 'The Collider 2', \"Medusa's Labyrinth\", 'Trainz 2009: Railroad Simulator', '1953 - KGB Unleashed', \"It's Spring Again\"]\n",
      "somefaggotalreadytookjimmy\n",
      "Making predictions for random user somefaggotalreadytookjimmy\n",
      "True\n",
      "Actual games: ['APB Reloaded', 'Fallout 4', 'Killing Floor', 'Grand Theft Auto V', 'Killing Floor 2', 'Rust', 'XCOM 2', 'DayZ', 'NARUTO SHIPPUDEN: Ultimate Ninja STORM 3 Full Burst', 'The Binding of Isaac: Rebirth']\n",
      "Predicted games: ['Chronicon', 'Infinium Strike', 'Infinite Game Works Episode 1', 'SculptrVR', 'Arizona Sunshine', 'Nancy Drew: The Deadly Device', 'Farm Frenzy: Heave Ho', 'A Week of Circus Terror', 'Tkl Online', 'Sherlock Holmes: The Secret of the Silver Earring']\n",
      "ExtraEdition\n",
      "Making predictions for random user ExtraEdition\n",
      "True\n",
      "Actual games: ['Warframe', 'Warframe', 'Unturned', 'Unturned', 'Trove', 'Trove', 'Spiral Knights', 'Spiral Knights', 'FreeStyle2: Street Basketball', 'FreeStyle2: Street Basketball']\n",
      "Predicted games: ['XO-Planets', 'Dungeons Are Random', 'Temple of Elemental Evil', 'Tesla VR', 'Endica VII The Dream King', 'Valzar', 'Son of Nor', 'Ice Lakes', 'Dark Fear', 'GameLoading: 14 - Code Liberation']\n"
     ]
    },
    {
     "name": "stderr",
     "output_type": "stream",
     "text": [
      "Training epoch 2: 100%|██████████| 112511/112511 [15:44<00:00, 119.07it/s]\n"
     ]
    },
    {
     "name": "stdout",
     "output_type": "stream",
     "text": [
      "Epoch 2 - Training loss: 0.0002011486049411301\n"
     ]
    },
    {
     "name": "stderr",
     "output_type": "stream",
     "text": [
      "Validating epoch 2: 100%|██████████| 24110/24110 [00:31<00:00, 760.28it/s]\n"
     ]
    },
    {
     "name": "stdout",
     "output_type": "stream",
     "text": [
      "Epoch 2 - Validation loss: 0.00034609305084727204, RMSE: 0.018603737678354024, Precision@5: 0.0\n",
      "76561198060385675\n",
      "Making predictions for random user 76561198060385675\n",
      "True\n",
      "Actual games: ['FINAL FANTASY XIV: A Realm Reborn', 'Fallout 4', 'Borderlands 2', 'The Elder Scrolls V: Skyrim', 'Fallout: New Vegas', 'DARK SOULS™ II', 'Metro: Last Light', 'Spiral Knights', 'Saints Row: The Third', 'Starbound']\n",
      "Predicted games: ['Witch & Hero（魔女と勇者）', 'Shift Happens', 'Chronicon', 'Time Mysteries 2: The Ancient Spectres', 'Octamari Rescue', 'Shoot 1UP', 'Zone 22', 'Agarest Zero', 'Gemsweeper', 'Crystal Picnic']\n",
      "jjosh678\n",
      "Making predictions for random user jjosh678\n",
      "True\n",
      "Actual games: [\"Garry's Mod\", 'Counter-Strike: Global Offensive', 'Arma 3', 'The Crew', 'Arma 2: Operation Arrowhead', 'Euro Truck Simulator 2', 'Mount & Blade: Warband', 'Wargame: AirLand Battle', 'Block N Load', 'ARK: Survival Evolved']\n",
      "Predicted games: ['Reverse x Reverse', 'TRON: Evolution', 'World Of Leaders', 'SEEP Universe', 'Nancy Drew: Ransom of the Seven Ships ', 'O.R.B.', 'Neon Warp', 'Ancient Go', 'Braveland Wizard', 'A Blind Legend']\n",
      "spider1456\n",
      "Making predictions for random user spider1456\n",
      "True\n",
      "Actual games: ['Counter-Strike: Global Offensive', \"Garry's Mod\", 'Rocket League', 'Call of Duty: Black Ops - Multiplayer OSX', 'The Binding of Isaac: Rebirth', 'Chivalry: Medieval Warfare', 'Left 4 Dead 2', 'Path of Exile', \"Tom Clancy's Ghost Recon Phantoms - NA\", 'Counter-Strike: Source']\n",
      "Predicted games: ['Zen of Sudoku', 'Legends of Callasia Demo', \"Milford Heaven - Luken's Chronicles\", 'New York Taxi Simulator', 'Ramayana', 'The Color Out of Space', 'Viking Armor / Weapons: 17 - Banner UVWs', 'Deadly Profits', 'Racecraft', 'ROGUS - Kingdom of The Lost Souls']\n",
      "josyco123\n",
      "Making predictions for random user josyco123\n",
      "True\n",
      "Actual games: ['Counter-Strike: Global Offensive', 'Arma 3', 'Grand Theft Auto IV', 'Rust', 'Rocket League', \"Garry's Mod\", 'Arma 2: Operation Arrowhead', 'Saints Row: The Third', 'Super Hexagon', 'TrackMania Nations Forever']\n",
      "Predicted games: ['Aim Hero', 'Momentum', 'Loadout Mardi Gras Exclusive Pack', 'Father´s Island', 'Tinertia', 'CF-2-03 Sculpting - Hands and Feet', 'Sovereignty: Crown of Kings', 'EXZEAL', 'Glaive', 'Akin']\n",
      "Bob_McBacon\n",
      "Making predictions for random user Bob_McBacon\n",
      "True\n",
      "Actual games: ['Counter-Strike: Global Offensive', \"Garry's Mod\", 'Rust', 'Prison Architect', 'Unturned', 'Batman: Arkham City GOTY', 'Mount & Blade: Warband', 'Terraria', 'Portal 2', 'The Binding of Isaac: Rebirth']\n",
      "Predicted games: ['Indigo Prophecy', 'Drawn: The Painted Tower', 'RTS Creator', 'Call of Cthulhu: Shadow of the Comet', 'Strike Force: Arctic Storm', \"Don't Drop the Bass\", 'Raiden Legacy', 'Frontier', '! That Bastard Is Trying To Steal Our Gold !', 'Cosmic Leap']\n"
     ]
    },
    {
     "name": "stderr",
     "output_type": "stream",
     "text": [
      "Training epoch 3: 100%|██████████| 112511/112511 [15:45<00:00, 118.98it/s]\n"
     ]
    },
    {
     "name": "stdout",
     "output_type": "stream",
     "text": [
      "Epoch 3 - Training loss: 0.0001850745937898124\n"
     ]
    },
    {
     "name": "stderr",
     "output_type": "stream",
     "text": [
      "Validating epoch 3: 100%|██████████| 24110/24110 [00:31<00:00, 757.44it/s]\n"
     ]
    },
    {
     "name": "stdout",
     "output_type": "stream",
     "text": [
      "Epoch 3 - Validation loss: 0.0001554075166475002, RMSE: 0.012466277164742195, Precision@5: 0.0\n",
      "76561198053373904\n",
      "Making predictions for random user 76561198053373904\n",
      "True\n",
      "Actual games: [\"Sid Meier's Civilization V\", 'Left 4 Dead 2', \"Garry's Mod\", 'Borderlands 2', 'The Lord of the Rings Online™', 'Counter-Strike: Global Offensive', 'Surgeon Simulator', 'Chivalry: Medieval Warfare', 'Unturned', 'Empire: Total War']\n",
      "Predicted games: ['Black Rainbow', 'Bin Weevils Arty Arcade', 'Hush', 'Selknam Defense', 'Sunken', 'RHEM IV: The Golden Fragments Special Edition', 'Shake Your Money Simulator 2016', 'OCCHIO', 'An Assassin in Orlandes', 'Football Manager 2017']\n",
      "76561198077032945\n",
      "Making predictions for random user 76561198077032945\n",
      "True\n",
      "Actual games: [\"Garry's Mod\", 'Chivalry: Medieval Warfare', 'Borderlands 2', 'Terraria', 'Left 4 Dead 2', 'Counter-Strike: Global Offensive', 'Spiral Knights', 'Kerbal Space Program', 'Unturned', 'Blacklight: Retribution']\n",
      "Predicted games: ['Nameless ~The one thing you must recall~', 'Fear Equation', 'Safety First!', 'The Crystal Nebula', 'StoryMode - A Game About Crafting', 'SONAR', 'One Night', 'Floppy Heroes', 'Franchise Hockey Manager 2', 'Chill the Piro']\n",
      "oopashfdiohasld\n",
      "Making predictions for random user oopashfdiohasld\n",
      "True\n",
      "Actual games: [\"Garry's Mod\", 'Counter-Strike: Global Offensive', 'Warframe', \"Tom Clancy's Ghost Recon Phantoms - NA\", 'Fallen Earth', 'How to Survive', 'Left 4 Dead 2', 'Arma 2: Operation Arrowhead', 'Unturned', 'Arma 2']\n",
      "Predicted games: ['Fleeting Ages', 'Void & Meddler', 'Odysseus: Long Way Home', 'BIOS', 'Path of War', 'Double Fine Adventure!: That Bagel Filter Thing', 'Loot Hero DX', 'Goggles - World of Vaporia', 'Demons with Shotguns', 'INVERSUS']\n",
      "danielpaolucci\n",
      "Making predictions for random user danielpaolucci\n",
      "True\n",
      "Actual games: ['Counter-Strike: Global Offensive', \"Garry's Mod\", \"Assassin's Creed II\", 'Unturned', 'PlanetSide 2', 'Loadout', \"America's Army: Proving Grounds\", \"Tom Clancy's Ghost Recon Phantoms - NA\", 'The Binding of Isaac', 'Dead Island: Epidemic']\n",
      "Predicted games: ['Weird Park Trilogy', 'The Sheltered', 'Pang Adventures', 'Bass Blocks', 'Chill the Piro', 'Found', 'Octamari Rescue', 'Hyperspeed', 'Simple Spy', 'Gravity Ghost']\n",
      "76561198217352432\n",
      "Making predictions for random user 76561198217352432\n",
      "True\n",
      "Actual games: [\"Garry's Mod\", 'Left 4 Dead 2', 'Unturned', 'Rust', 'Paint the Town Red', 'Cubic Castles', 'Block N Load', 'Counter-Strike: Global Offensive', 'CastleMiner Z', 'CubeGun']\n",
      "Predicted games: ['Duck Dynasty', 'Zombitatos the end of the Pc master race', 'Hacker Evolution Source Code', 'Guns, Gore & Cannoli', 'Escape The Museum', 'XO-Planets', 'SCP 087. Re', 'Inferno 2', 'Extreme Roads USA', 'Blender: 4.01 Assets - Ref Images, Blockout']\n"
     ]
    },
    {
     "name": "stderr",
     "output_type": "stream",
     "text": [
      "Training epoch 4: 100%|██████████| 112511/112511 [15:45<00:00, 119.06it/s]\n"
     ]
    },
    {
     "name": "stdout",
     "output_type": "stream",
     "text": [
      "Epoch 4 - Training loss: 0.0001745561883366965\n"
     ]
    },
    {
     "name": "stderr",
     "output_type": "stream",
     "text": [
      "Validating epoch 4: 100%|██████████| 24110/24110 [00:31<00:00, 770.01it/s]\n"
     ]
    },
    {
     "name": "stdout",
     "output_type": "stream",
     "text": [
      "Epoch 00004: reducing learning rate of group 0 to 5.0000e-04.\n",
      "Epoch 4 - Validation loss: 0.0001971923449972859, RMSE: 0.014042561791940338, Precision@5: 0.0\n",
      "76561198088983081\n",
      "Making predictions for random user 76561198088983081\n",
      "True\n",
      "Actual games: ['Counter-Strike: Global Offensive', 'Unturned', 'Killing Floor', 'Killing Floor 2', \"Tom Clancy's Ghost Recon Phantoms - NA\", \"Garry's Mod\", 'Magicite', 'Terraria', 'Left 4 Dead 2', 'Robocraft']\n",
      "Predicted games: ['Tom vs. The Armies of Hell', 'EeOneGuy Adventure', 'Awakening of Solutio', 'Hazen: The Dark Whispers', 'Legena: Union Tides', 'Treasure Planet Battle at Procyon', 'Voidspire Tactics', 'Way to Go!', 'MAGIX Photostory 2014 Deluxe', 'Unwell Mel']\n",
      "76561198072285282\n",
      "Making predictions for random user 76561198072285282\n",
      "True\n",
      "Actual games: [\"Garry's Mod\", 'South Park™: The Stick of Truth™', 'SMITE', 'Dead Island: Epidemic', 'Loadout', 'Bloons TD Battles']\n",
      "Predicted games: ['Galactic Inheritors', 'Luxor 2 HD', 'Troubles Land', 'Lost in Paradise', 'Runestone Keeper', 'Dashy Square', 'Monster Jam', 'GameLoading: Dutch Game Garden', 'The Counting Kingdom', 'Clutch']\n",
      "76561198082613867\n",
      "Making predictions for random user 76561198082613867\n",
      "True\n",
      "Actual games: ['The Elder Scrolls V: Skyrim', 'War Thunder', 'Unturned', 'Chivalry: Medieval Warfare', \"Garry's Mod\", 'Brawlhalla', 'POSTAL 2', 'Caster', 'ORION: Prelude', 'Dota 2 Test']\n",
      "Predicted games: ['CF-5-03 Rigging - Palm Control', 'Hyper Bowling VR', 'LEVEL UP!', '! That Bastard Is Trying To Steal Our Gold !', 'Infinity Wings - Scout & Grunt', 'Substance Designer 5', 'Eclipse --- Defending the motherland', 'Chowderchu', 'Flat Path', 'Eventide: Slavic Fable']\n",
      "76561198061451329\n",
      "Making predictions for random user 76561198061451329\n",
      "True\n",
      "Actual games: ['Counter-Strike: Source', 'Grand Theft Auto IV', 'Counter-Strike: Global Offensive', 'Grand Theft Auto: Episodes from Liberty City', 'Audiosurf', 'The Walking Dead', 'Torchlight II', 'Dota 2 Test']\n",
      "Predicted games: ['New York Taxi Simulator', 'Battleship', 'ZeGame', 'Prompt', 'Race.a.bit', 'Rocket Riot', 'Drox Operative', 'Organ Biker', 'East Tower - Takashi', 'Queen Under The Mountain']\n",
      "nasain\n",
      "Making predictions for random user nasain\n",
      "True\n",
      "Actual games: ['Robocraft', 'Dota 2 Test']\n",
      "Predicted games: ['DEFENDERS', 'Comicado', 'Vapour', 'Guns of Infinity', 'Directionless', 'GearCity', \"Yar's Revenge\", 'Battle For The Sun', 'MorphVOX Pro - Voice Changer', 'The Dog House']\n"
     ]
    },
    {
     "name": "stderr",
     "output_type": "stream",
     "text": [
      "Training epoch 5: 100%|██████████| 112511/112511 [15:46<00:00, 118.87it/s]\n"
     ]
    },
    {
     "name": "stdout",
     "output_type": "stream",
     "text": [
      "Epoch 5 - Training loss: 9.073115359778397e-05\n"
     ]
    },
    {
     "name": "stderr",
     "output_type": "stream",
     "text": [
      "Validating epoch 5: 100%|██████████| 24110/24110 [00:32<00:00, 747.90it/s]\n"
     ]
    },
    {
     "name": "stdout",
     "output_type": "stream",
     "text": [
      "Epoch 5 - Validation loss: 0.0001379189896516968, RMSE: 0.011743985883899343, Precision@5: 0.0\n",
      "Big_Kill\n",
      "Making predictions for random user Big_Kill\n",
      "True\n",
      "Actual games: ['Left 4 Dead 2', 'Counter-Strike: Source', 'Super Monday Night Combat', \"Garry's Mod\", 'Serious Sam 2', 'Castle Crashers', 'NARUTO SHIPPUDEN: Ultimate Ninja STORM Revolution', 'Poker Night 2', 'Counter-Strike: Global Offensive', 'BattleBlock Theater']\n",
      "Predicted games: ['Blue Bird', 'Enemy Empire', 'The Settlers: Heritage of Kings', 'Complete Figure Drawing Course HD: 017 - The Journey to 3/4 view of Human Skull  - Part 5', 'Gunspell: Steam Edition', 'Westward 2', 'The BoX', 'Blender: 4.08 Assets - Removing NGons', 'Abduction Action! Plus', 'The Empty Inn']\n",
      "76561198050100696\n",
      "Making predictions for random user 76561198050100696\n",
      "True\n",
      "Actual games: ['Football Manager 2012', \"Sid Meier's Civilization V\", \"Garry's Mod\", 'The Elder Scrolls V: Skyrim', 'Dota 2 Test']\n",
      "Predicted games: ['Tank Battle: North Africa', \"Waste Walkers Prepper's Edition DLC\", 'TRANSFORMERS: Rise of the Dark Spark', 'Black Fire', 'Do Not Fall', 'Heroes Rise: HeroFall', 'Whitewash', 'Turner', 'White Night', 'INVERSUS']\n",
      "daniel01ricardo\n",
      "Making predictions for random user daniel01ricardo\n",
      "True\n",
      "Actual games: ['Path of Exile', 'Counter-Strike: Global Offensive', 'Call of Duty: Black Ops II - Multiplayer', 'Grand Theft Auto V', 'Infestation: Survivor Stories Classic', 'Rust', 'AdVenture Capitalist', 'Arma 3', 'Warframe', 'Anno 2070']\n",
      "Predicted games: ['Orbital X', 'Kiai Resonance', 'Super Markup Man', 'CTU: Counter Terrorism Unit', 'Puzzle Chronicles', 'Cultures - 8th Wonder of the World', 'Diamond Deeps', 'Football Club Simulator - FCS', 'Kindred Spirits on the Roof Drama CD Vol.4: Kindred Spirits Pop Show (Disc 2)', \"Wooden Sen'SeY\"]\n",
      "76561198043522190\n",
      "Making predictions for random user 76561198043522190\n",
      "True\n",
      "Actual games: ['Counter-Strike: Global Offensive', 'Counter-Strike: Source', 'The Elder Scrolls V: Skyrim', 'Thief', 'The Forest', 'Call of Duty: Black Ops II - Zombies', 'Call of Duty: Modern Warfare 3 - Multiplayer', 'Age of Empires® III: Complete Collection', 'Chivalry: Medieval Warfare', 'Metro: Last Light Redux']\n",
      "Predicted games: ['Night Mysteries: The Amphora Prisoner', 'Toxic Terror', 'Spectrum: First Light', 'Chronicle Keepers: The Dreaming Garden', 'Gratuitous Space Battles 2', 'Red Comrades Save the Galaxy: Reloaded', 'Blender: 8.3 Im/Export - LOD Creation', 'Ride the Bullet', \"Hacker's Beat\", '軒轅劍外傳穹之扉(The Gate of Firmament)']\n",
      "76561198068502194\n",
      "Making predictions for random user 76561198068502194\n",
      "True\n",
      "Actual games: [\"Garry's Mod\", 'DayZ', 'Saints Row: The Third', 'Terraria', 'Unturned', 'Left 4 Dead 2', 'PAYDAY: The Heist', 'The Stomping Land', 'Counter-Strike: Global Offensive', 'Vindictus']\n",
      "Predicted games: ['1849', 'Nertz Solitaire', 'Nancy Drew: Secret of the Scarlet Hand ', \"H-Hour: World's Elite\", 'SurrealVR', 'The Last Hope', 'Chicken Invaders 4', 'After Reset RPG', 'Battle Crust', 'Box Maze']\n"
     ]
    },
    {
     "name": "stderr",
     "output_type": "stream",
     "text": [
      "Training epoch 6: 100%|██████████| 112511/112511 [15:47<00:00, 118.80it/s]\n"
     ]
    },
    {
     "name": "stdout",
     "output_type": "stream",
     "text": [
      "Epoch 6 - Training loss: 9.076121009933835e-05\n"
     ]
    },
    {
     "name": "stderr",
     "output_type": "stream",
     "text": [
      "Validating epoch 6: 100%|██████████| 24110/24110 [00:31<00:00, 754.39it/s]\n"
     ]
    },
    {
     "name": "stdout",
     "output_type": "stream",
     "text": [
      "Epoch 6 - Validation loss: 9.764494479933525e-05, RMSE: 0.009881657947132728, Precision@5: 0.0\n",
      "76561198040495105\n",
      "Making predictions for random user 76561198040495105\n",
      "True\n",
      "Actual games: ['Age of Empires II: HD Edition', 'Age of Empires II: HD Edition', 'DARK SOULS III', 'DARK SOULS III', 'Left 4 Dead 2', 'Left 4 Dead 2', 'DARK SOULS™ II', 'DARK SOULS™ II', \"Sid Meier's Civilization V\", \"Sid Meier's Civilization V\"]\n",
      "Predicted games: ['Shiny Gauntlet', 'Treasure Planet Battle at Procyon', 'The Dwarves', 'Botology', 'Luxor Amun Rising HD', 'Nancy Drew: Secrets can Kill', 'Azada', 'Tommy Tronic', 'Aircraft War X', 'MotoGP™13']\n",
      "76561198044743278\n",
      "Making predictions for random user 76561198044743278\n",
      "True\n",
      "Actual games: [\"Sid Meier's Civilization V\", \"Garry's Mod\", 'Kerbal Space Program', 'Unturned', 'Prison Architect', 'Total War: ATTILA', 'FTL: Faster Than Light', 'Robocraft', 'Hitman: Absolution', 'Terraria']\n",
      "Predicted games: ['Blinding Dark', 'Aerofly FS 1 Flight Simulator', 'Lethis - Path of Progress', \"Corinne Cross's Dead & Breakfast\", 'WolfQuest', 'Rapture Session/Pro', 'TRON: Evolution', 'Tales of Destruction', 'Samsa and the Knights of Light', 'Grenade Madness']\n",
      "Pootis_Mann\n",
      "Making predictions for random user Pootis_Mann\n",
      "True\n",
      "Actual games: ['Terraria', \"Garry's Mod\", 'Borderlands 2', 'The Elder Scrolls V: Skyrim', 'Starbound', 'Unturned', 'Borderlands', 'PAYDAY 2', 'Time Clickers', 'Edge of Space']\n",
      "Predicted games: ['UnderWater Adventure', 'Rytmik Ultimate', 'Adam and Eve: The Game - Chapter 1', 'Zombie Parking', 'Future Perfect', 'World of Diving', 'Dead Acres', 'Redux: Dark Matters', \"Penguins' Journey\", 'Trainz Driver 2016']\n",
      "76561198078917043\n",
      "Making predictions for random user 76561198078917043\n",
      "True\n",
      "Actual games: [\"Garry's Mod\", 'Counter-Strike: Global Offensive', 'XCOM: Enemy Unknown', 'Goat Simulator', 'RollerCoaster Tycoon 3: Platinum!', 'Grand Theft Auto IV', 'Game Dev Tycoon', 'Total War: ROME II - Emperor Edition', 'Surgeon Simulator', 'Grand Theft Auto: Episodes from Liberty City']\n",
      "Predicted games: [\"Sid Meier's Covert Action (Classic)\", 'TriBlaster', 'Broken Bots', 'Mahluk:Dark demon', 'RTS Creator', 'Obscuritas', \"Don't Let Go!\", 'No Time To Live', 'The Mechanical Bride', 'Pharaoh Rebirth+']\n",
      "76561198107736011\n",
      "Making predictions for random user 76561198107736011\n",
      "True\n",
      "Actual games: [\"Garry's Mod\", 'Terraria', 'War Thunder', 'Robocraft', 'The Elder Scrolls Online: Tamriel Unlimited', 'Space Engineers', 'Kerbal Space Program', \"Don't Starve Together\", 'Besiege', 'Guns of Icarus Online']\n",
      "Predicted games: ['TriBlaster', 'SOLRAVEN', 'RollerForce', 'ABE VR', 'Ship Simulator: Maritime Search and Rescue', 'Over the Dream', 'Double Dragon Trilogy', 'CONTASION 2', 'Duck Dynasty', 'iO']\n"
     ]
    },
    {
     "name": "stderr",
     "output_type": "stream",
     "text": [
      "Training epoch 7: 100%|██████████| 112511/112511 [15:46<00:00, 118.85it/s]\n"
     ]
    },
    {
     "name": "stdout",
     "output_type": "stream",
     "text": [
      "Epoch 7 - Training loss: 8.994897128381247e-05\n"
     ]
    },
    {
     "name": "stderr",
     "output_type": "stream",
     "text": [
      "Validating epoch 7: 100%|██████████| 24110/24110 [00:31<00:00, 757.28it/s]\n"
     ]
    },
    {
     "name": "stdout",
     "output_type": "stream",
     "text": [
      "Epoch 7 - Validation loss: 8.259544864806575e-05, RMSE: 0.009088313089444033, Precision@5: 0.0\n",
      "EpicDemoManHasKitteh\n",
      "Making predictions for random user EpicDemoManHasKitteh\n",
      "True\n",
      "Actual games: ['Counter-Strike: Global Offensive', \"Garry's Mod\", \"Sid Meier's Civilization V\", 'Awesomenauts', 'Counter-Strike: Source', 'The Elder Scrolls V: Skyrim', 'Terraria', 'Prison Architect', 'Saints Row: The Third', 'Loadout']\n",
      "Predicted games: [\"Nobunaga's Ambition: Souzou\", 'The Visitor', 'Damage Inc', 'Sound Forge Audio Studio 10 - Steam Powered', 'CHARIOT WARS', 'Krita Gemini', 'Fleet Defender: The F-14 Tomcat Simulation', 'Chicku', 'Arkshot', 'The Path of Greatest Resistance']\n",
      "76561198065940908\n",
      "Making predictions for random user 76561198065940908\n",
      "True\n",
      "Actual games: ['Borderlands 2', \"Garry's Mod\", 'Half-Life 2', 'Half-Life 2: Episode Two', 'Counter-Strike: Source', 'Half-Life 2: Episode One', 'Portal', 'Arma 2: Operation Arrowhead', 'Half-Life 2: Lost Coast', 'Arma 2']\n",
      "Predicted games: ['Force of Elements', 'Hoops VR', 'A Healer Only Lives Twice', 'The Empty Inn', 'DinoSystem', 'Caveman Craig', \"Sparky's Hunt\", 'Hyper Bounce Blast', 'Lumini', 'Leap of Fate']\n",
      "76561198099726932\n",
      "Making predictions for random user 76561198099726932\n",
      "True\n",
      "Actual games: [\"Garry's Mod\", 'Borderlands 2', 'Rust', \"Don't Starve\", 'Counter-Strike: Global Offensive', 'Surgeon Simulator', 'Goat Simulator', 'Portal 2', 'Unturned', 'Octodad: Dadliest Catch']\n",
      "Predicted games: ['Rambo The Video Game', 'BlazBlue: Chronophantasma Extend', 'Simple Spy', 'Dungeon Lords Steam Edition', 'Ace of Seafood', 'Hell', 'Without Within 2', 'Avaris 2', 'Lord Mayor', 'Dead Acres']\n",
      "chuckmorris25\n",
      "Making predictions for random user chuckmorris25\n",
      "True\n",
      "Actual games: [\"Garry's Mod\", 'Counter-Strike: Global Offensive', 'Terraria', 'Fallout 4', 'Rust', 'Starbound', 'The Elder Scrolls V: Skyrim', 'PAYDAY 2', 'Crusader Kings II', 'The Binding of Isaac: Rebirth']\n",
      "Predicted games: ['Massive Assault: Phantom Renaissance', 'Scourge of War: Waterloo', 'Drip Drip', 'Bionite: Origins', 'Sentinel 4: Dark Star', 'DARTHY', 'Summer Fling', 'The Last Express Gold Edition', 'MAGIX Music Maker 2015', 'Cash_Out']\n",
      "76561198005999162\n",
      "Making predictions for random user 76561198005999162\n",
      "True\n",
      "Actual games: ['Counter-Strike: Global Offensive', 'Counter-Strike: Source', 'Battlefield: Bad Company 2', 'War Thunder', 'Call of Duty: Modern Warfare 2 - Multiplayer', 'Left 4 Dead', 'PAYDAY 2', 'Borderlands 2', 'Kerbal Space Program', 'Prison Architect']\n",
      "Predicted games: ['Fright Light', 'Daedalus - No Escape', \"True Lover's Knot\", 'CF-5-12 Rigging - Fixing Jaw', 'Overfall', 'Crystal Rift', 'Push Me Pull You', 'Mosaico ', 'TriJinx', 'The Kindred']\n"
     ]
    },
    {
     "name": "stderr",
     "output_type": "stream",
     "text": [
      "Training epoch 8: 100%|██████████| 112511/112511 [15:45<00:00, 119.01it/s]\n"
     ]
    },
    {
     "name": "stdout",
     "output_type": "stream",
     "text": [
      "Epoch 8 - Training loss: 8.920104861510302e-05\n"
     ]
    },
    {
     "name": "stderr",
     "output_type": "stream",
     "text": [
      "Validating epoch 8: 100%|██████████| 24110/24110 [00:31<00:00, 762.58it/s]\n"
     ]
    },
    {
     "name": "stdout",
     "output_type": "stream",
     "text": [
      "Epoch 8 - Validation loss: 0.00011966744197619641, RMSE: 0.010939393853452831, Precision@5: 0.0\n",
      "popureye\n",
      "Making predictions for random user popureye\n",
      "True\n",
      "Actual games: [\"Tom Clancy's Ghost Recon Phantoms - NA\", 'Marvel Heroes 2016', 'Loadout', 'World of Guns: Gun Disassembly', 'Dota 2 Test']\n",
      "Predicted games: ['Mystery Castle', 'Pulse', 'Complete Figure Drawing Course HD: 009 - The Formulas for the Side View of the Human Head - Phase 1', 'VR Gallery', 'Garage Drummer VR', 'Niffelheim', 'Fall of Civilization', 'The Tribe', 'Heroes Rise: HeroFall', 'And So It Was']\n",
      "76561198084189953\n",
      "Making predictions for random user 76561198084189953\n",
      "True\n",
      "Actual games: [\"Garry's Mod\", 'Counter-Strike: Global Offensive', 'Call of Duty: World at War', 'Unturned', 'Mortal Kombat Komplete Edition', 'Goat Simulator', 'Call of Duty: Advanced Warfare - Multiplayer', 'Left 4 Dead 2', 'Yet Another Zombie Defense', 'Call of Duty: Advanced Warfare']\n",
      "Predicted games: ['Alienware Steam Machine', '101 Ways to Die', 'Super Granny 3', 'The Fleets of Sol', 'MacGuffin', 'Color Guardians', \"Kohan: Ahriman's Gift\", 'Vertigo', 'The chronicles of Emerland. Solitaire.', 'The Color Out of Space']\n",
      "76561198070022613\n",
      "Making predictions for random user 76561198070022613\n",
      "True\n",
      "Actual games: ['Cry of Fear', 'Counter-Strike: Global Offensive', \"Garry's Mod\", 'The Elder Scrolls V: Skyrim', 'DayZ', 'The Walking Dead: Season Two', 'The Walking Dead', 'Borderlands 2', '7 Days to Die', 'Arma 2: Operation Arrowhead']\n",
      "Predicted games: [\"YOU DON'T KNOW JACK\", 'Jumpix Jump', 'Carrotting Brain', 'NeverMine', 'CF-5-10 Rigging - Eye blink Shapes', 'Hostile Dimension', 'Megamagic: Wizards of the Neon Age', 'Typefighters (Steam Edition)', 'GameLoading: 13 - Digital Pocket, Tokyo', 'Train of Afterlife']\n",
      "zp3413\n",
      "Making predictions for random user zp3413\n",
      "True\n",
      "Actual games: ['SMITE', \"Sid Meier's Civilization V\", 'Prison Architect', 'Trove', 'Saints Row: The Third', 'The Elder Scrolls Online: Tamriel Unlimited', 'Undertale', 'Magicka', \"Garry's Mod\", 'Just Cause 2']\n",
      "Predicted games: ['Archeblade Early Access Premium Pack', \"Rocko's Quest\", 'Starsphere', 'TAKEN', 'Knight & Damsel', 'Eisenbahn X', 'Venusian Vengeance', 'Bunker - The Underground Game', 'Spectrum: First Light', 'Cubway']\n",
      "76561198075471831\n",
      "Making predictions for random user 76561198075471831\n",
      "True\n",
      "Actual games: ['The Elder Scrolls V: Skyrim', 'Magic: The Gathering - Duels of the Planeswalkers 2013', 'BioShock Infinite', 'Portal 2', 'LEGO® MARVEL Super Heroes', \"Sid Meier's Civilization V\", 'Middle-earth: Shadow of Mordor', 'LEGO® Star Wars™: The Complete Saga', 'Guacamelee! Gold Edition', 'SpeedRunners']\n",
      "Predicted games: ['Dots eXtreme', 'Space Legends: At the Edge of the Universe', 'Pump-Action Captain', 'Psycho Starship Rampage', 'And So It Was', 'Shiny Gauntlet', 'Shadow Of Nebula', \"Max's Big Bust - A Captain Nekorai Tale\", '10 Years After', 'CF-3-04 Retopology - Arms, Feet, Back']\n"
     ]
    },
    {
     "name": "stderr",
     "output_type": "stream",
     "text": [
      "Training epoch 9: 100%|██████████| 112511/112511 [15:46<00:00, 118.84it/s]\n"
     ]
    },
    {
     "name": "stdout",
     "output_type": "stream",
     "text": [
      "Epoch 9 - Training loss: 8.853971514948447e-05\n"
     ]
    },
    {
     "name": "stderr",
     "output_type": "stream",
     "text": [
      "Validating epoch 9: 100%|██████████| 24110/24110 [00:31<00:00, 754.41it/s]\n"
     ]
    },
    {
     "name": "stdout",
     "output_type": "stream",
     "text": [
      "Epoch 9 - Validation loss: 7.562789996798269e-05, RMSE: 0.008696533031163231, Precision@5: 0.0\n",
      "76561198085261848\n",
      "Making predictions for random user 76561198085261848\n",
      "True\n",
      "Actual games: ['Dream Of Mirror Online', 'Trove', 'Cry of Fear', 'Spiral Knights', 'Robocraft', 'Super Monday Night Combat', 'War Inc. Battlezone', 'Sins of a Dark Age', 'Warface', 'The Way of Life Free Edition']\n",
      "Predicted games: ['The Treasures of Montezuma 5', 'Rebirth of Island', 'Gnomes Garden 2', 'Yooka-Laylee - Toybox', 'Dinocide', 'Ship Simulator: Maritime Search and Rescue', 'Impossible Geometry', 'Chicken Invaders 2', 'The Bloc', 'Gravity Cat']\n",
      "thanksforeadingthis\n",
      "Making predictions for random user thanksforeadingthis\n",
      "True\n",
      "Actual games: ['Counter-Strike: Global Offensive', 'Dirty Bomb', 'Warframe', 'Trove']\n",
      "Predicted games: ['The Prism', 'The Secret Order 3: Ancient Times', 'Highborn', 'Ruckus Ridge VR Party', 'Deep Black : Reloaded', 'Agatha Christie: Evil under the Sun', 'Raise Your Own Clone', \"Drakensang 2 - Phileasson's Secret\", 'Aces of the Galaxy', 'Elite vs. Freedom']\n",
      "76561198087461945\n",
      "Making predictions for random user 76561198087461945\n",
      "True\n",
      "Actual games: ['Left 4 Dead 2', 'Counter-Strike: Global Offensive', 'Grand Theft Auto V', 'PAYDAY 2', 'Star Conflict', 'Empire: Total War', 'Left 4 Dead 2 Beta']\n",
      "Predicted games: ['Looterkings', 'ADOM (Ancient Domains Of Mystery)', 'MechaGore', 'Defunct', 'Hold the door!', 'Tales from the Void', 'Bounty Train', 'The Last Sniper VR', 'Cradle of Rome', 'Happy Pong']\n",
      "cptmileseo\n",
      "Making predictions for random user cptmileseo\n",
      "True\n",
      "Actual games: ['Left 4 Dead 2', 'PAYDAY 2', 'Rocket League', 'METAL GEAR SOLID V: THE PHANTOM PAIN', 'Chivalry: Medieval Warfare', 'Fallout: New Vegas', 'Total War: SHOGUN 2', 'The Elder Scrolls V: Skyrim', 'Dark Souls: Prepare to Die Edition', 'Killing Floor']\n",
      "Predicted games: ['Grenade Madness', 'Egyptian Senet', \"Forge: Ymil's Revenge\", 'And So It Was', 'Grim Legends 3: The Dark City', 'City Life Deluxe', 'Tales of Destruction', 'Pixel: ru²', 'Icewind Dale', 'Ashes Cricket 2013']\n",
      "76561198070119850\n",
      "Making predictions for random user 76561198070119850\n",
      "True\n",
      "Actual games: ['Dota 2 Test']\n",
      "Predicted games: ['Viking Armor / Weapons: 17 - Banner UVWs', 'Trackday Manager', 'Ice Age™: Continental Drift: Arctic Games', 'Everquest: Underfoot - Raging Mercenaries', \"King's Guard TD\", 'Making History: The Great War', 'Emoticons', \"Gary Grigsby's War in the East\", 'Max Payne 2 IT', 'VROOM: Galleon']\n"
     ]
    },
    {
     "name": "stderr",
     "output_type": "stream",
     "text": [
      "Training epoch 10: 100%|██████████| 112511/112511 [15:47<00:00, 118.77it/s]\n"
     ]
    },
    {
     "name": "stdout",
     "output_type": "stream",
     "text": [
      "Epoch 10 - Training loss: 8.787315968884582e-05\n"
     ]
    },
    {
     "name": "stderr",
     "output_type": "stream",
     "text": [
      "Validating epoch 10: 100%|██████████| 24110/24110 [00:32<00:00, 746.05it/s]\n"
     ]
    },
    {
     "name": "stdout",
     "output_type": "stream",
     "text": [
      "Epoch 10 - Validation loss: 9.804258985954702e-05, RMSE: 0.00990176193690777, Precision@5: 0.0\n",
      "76561198090441464\n",
      "Making predictions for random user 76561198090441464\n",
      "True\n",
      "Actual games: ['Total War: SHOGUN 2', 'Total War: ROME II - Emperor Edition', 'Automation - The Car Company Tycoon Game', 'Magic Duels']\n",
      "Predicted games: ['A-Train 9 V4.0 : Japan Rail Simulator', 'Dual Core', 'A Mass of Dead', 'Wave of Darkness', 'Blender: 7.3 3D Paint - Multi Layered', 'Nancy Drew: The Creature of Kapu Cave', 'Concrete Jungle', 'The Last Hope', 'MAGIX Movie Edit Pro 2014 Plus', \"Little King's Story\"]\n",
      "lachlanm\n",
      "Making predictions for random user lachlanm\n",
      "True\n",
      "Actual games: ['Left 4 Dead', \"Garry's Mod\", 'Left 4 Dead 2', 'Grand Theft Auto IV', 'Left 4 Dead 2 Beta']\n",
      "Predicted games: ['Reset 1-1', 'The Battle for Sector 219', 'PRINCIPIA: Master of Science', 'Footbrawl Playground', '1943 Megami Strike', 'Monsters and Monocles', 'Star Raiders ', 'The Great Whale Road', 'Wild Frontera', 'Sun Dogs']\n",
      "Infected_Fun\n",
      "Making predictions for random user Infected_Fun\n",
      "True\n",
      "Actual games: [\"Sid Meier's Civilization V\", 'Grand Theft Auto V', 'RIFT', 'War Thunder', 'Dota 2 Test']\n",
      "Predicted games: ['Time of Fury', 'The Legions of Rome', 'Seeders', 'Linkrealms', 'Devilry', 'GameLoading: Marketing at PAX Prime', 'LostWinds', 'Soul of the Devil', 'Gunslugs 2', 'Project Genom']\n",
      "76561198080705638\n",
      "Making predictions for random user 76561198080705638\n",
      "True\n",
      "Actual games: ['Starbound', \"Sid Meier's Civilization: Beyond Earth\", 'The Mighty Quest For Epic Loot', 'Starbound - Unstable', \"Sid Meier's Civilization V\", 'LEGO® MARVEL Super Heroes', 'Portal 2', 'Loadout', 'Tribes: Ascend', 'Crush Crush']\n",
      "Predicted games: ['Throbax TD', 'Townopolis', 'ENYO ARCADE', 'Money Tree', 'SONAR (2015)', 'CF-5-05 Rigging - Knee Target', 'Sam Glyph: Private Eye!', 'Marble Void', 'Organic Panic', 'Global ATC Simulator']\n",
      "76561198016632950\n",
      "Making predictions for random user 76561198016632950\n",
      "True\n",
      "Actual games: ['Path of Exile', 'Time Clickers', 'Call of Duty: Modern Warfare 2 - Multiplayer', 'Borderlands 2', 'NBA 2K13', 'The Elder Scrolls V: Skyrim', 'NBA 2K14', 'Neverwinter', 'Dungeon Defenders', 'Torchlight II']\n",
      "Predicted games: ['Hidden: On the trail of the Ancients', 'A Week of Circus Terror', 'Mysterious Space', 'Stranger of Sword City', 'Stairs', 'Do Not Fall', 'Miner Mayhem', 'The Mahjong Huntress', 'Fall of the Titanic', \"Disney Mickey's Typing Adventure\"]\n"
     ]
    },
    {
     "name": "stderr",
     "output_type": "stream",
     "text": [
      "Training epoch 11: 100%|██████████| 112511/112511 [15:46<00:00, 118.91it/s]\n"
     ]
    },
    {
     "name": "stdout",
     "output_type": "stream",
     "text": [
      "Epoch 11 - Training loss: 8.737996662497778e-05\n"
     ]
    },
    {
     "name": "stderr",
     "output_type": "stream",
     "text": [
      "Validating epoch 11: 100%|██████████| 24110/24110 [00:31<00:00, 753.47it/s]\n"
     ]
    },
    {
     "name": "stdout",
     "output_type": "stream",
     "text": [
      "Epoch 11 - Validation loss: 8.769636696455389e-05, RMSE: 0.009364746926841338, Precision@5: 0.0\n",
      "doyouwantorp\n",
      "Making predictions for random user doyouwantorp\n",
      "True\n",
      "Actual games: ['Counter-Strike: Global Offensive', \"Garry's Mod\", 'DayZ', 'Call of Duty: Black Ops II - Multiplayer', \"Assassin's Creed® III\", 'Saints Row: The Third', 'Dead by Daylight', 'Left 4 Dead 2', 'Robocraft', 'Grand Theft Auto V']\n",
      "Predicted games: ['Cursed West', 'Zoo Rampage', 'Steel Rain', 'Scooby-Doo! & Looney Tunes Cartoon Universe: Adventure', 'Evil Hazard', 'A Stroke of Fate: Operation Bunker', 'Blender: 1.3 UI Basics - Layout Customization', 'Wing IDE 5', 'Astro Emporia', 'Doodle WHAT?!']\n",
      "MtTheuz\n",
      "Making predictions for random user MtTheuz\n",
      "True\n",
      "Actual games: ['Call of Duty: Modern Warfare 3 - Multiplayer', 'Unturned', 'Insurgency', 'PlanetSide 2', 'Portal', \"Garry's Mod\", 'Call of Duty: Modern Warfare 3', 'Firefall', 'HAWKEN', 'Robocraft']\n",
      "Predicted games: ['G8 Dynamic Gate (VST/AU)', 'Strangers', 'Deputy Dangle', 'Ragdoll Runners', 'Lords of the Realm', 'Professional Farmer 2017', '#killallzombies', 'Reigning Cats', 'Marvel: Ultimate Alliance 2', 'Space Codex']\n",
      "76561198048922022\n",
      "Making predictions for random user 76561198048922022\n",
      "True\n",
      "Actual games: ['Counter-Strike: Global Offensive', \"Garry's Mod\", 'Call of Duty: Black Ops II - Multiplayer', 'Counter-Strike: Source', 'Arma 3', 'Left 4 Dead 2', \"Sid Meier's Civilization V\", 'War Thunder', 'Terraria', 'Saints Row: The Third']\n",
      "Predicted games: ['Cubixx HD', 'Mysteries & Nightmares: Morgiana', 'Zombie Gotchi', 'Hollywood Visionary', \"Captain Curve's Intergalactic Space Adventure\", 'Kindred Spirits on the Roof Drama CD Vol.4: Kyuusei Radio (Disc 1)', 'Hatland Adventures', 'Check vs. Mate', '3d-coat', 'Sign Motion']\n",
      "76561198046042632\n",
      "Making predictions for random user 76561198046042632\n",
      "True\n",
      "Actual games: [\"Garry's Mod\", 'Terraria', 'Divinity: Original Sin (Classic)', 'Saints Row: The Third', 'Starbound', 'DARK SOULS III', 'Warframe', 'Borderlands 2', 'ARK: Survival Evolved', 'Natural Selection 2']\n",
      "Predicted games: ['SkyBoats', 'Project RPG', 'Inside Me', 'ATOM GRRRL!!', 'Nebulous', 'Alien Robot Monsters', \"Dark Parables: The Swan Princess and The Dire Tree Collector's Edition\", 'String Theory', 'Assassins vs Pirates', 'StarFringe: Adversus']\n",
      "76561198089131355\n",
      "Making predictions for random user 76561198089131355\n",
      "True\n",
      "Actual games: ['The Elder Scrolls V: Skyrim', 'Spore', 'Warframe', 'Robocraft', 'Spore: Creepy & Cute Parts Pack', 'PlanetSide 2', 'Rust', 'Unturned', 'Loadout', 'Realm of the Mad God']\n",
      "Predicted games: ['Flow DJ Software', 'Archeblade Early Access Premium Pack', 'Rising Islands', 'Braveland Wizard', 'Nurse Love Addiction', 'Congo', 'HELP: THE GAME', 'Iron Man', 'Mortos', 'Cologne']\n"
     ]
    },
    {
     "name": "stderr",
     "output_type": "stream",
     "text": [
      "Training epoch 12: 100%|██████████| 112511/112511 [15:47<00:00, 118.79it/s]\n"
     ]
    },
    {
     "name": "stdout",
     "output_type": "stream",
     "text": [
      "Epoch 12 - Training loss: 8.649681486932487e-05\n"
     ]
    },
    {
     "name": "stderr",
     "output_type": "stream",
     "text": [
      "Validating epoch 12: 100%|██████████| 24110/24110 [00:31<00:00, 754.26it/s]\n"
     ]
    },
    {
     "name": "stdout",
     "output_type": "stream",
     "text": [
      "Epoch 00012: reducing learning rate of group 0 to 2.5000e-04.\n",
      "Epoch 12 - Validation loss: 7.773861209485061e-05, RMSE: 0.008817056935150813, Precision@5: 0.0\n",
      "pedro2579\n",
      "Making predictions for random user pedro2579\n",
      "True\n",
      "Actual games: ['Terraria', 'Neverwinter', 'The Binding of Isaac', 'Warframe', 'Dungeon Defenders', 'Starbound', 'Trove', \"Don't Starve\", 'Left 4 Dead 2', \"Garry's Mod\"]\n",
      "Predicted games: ['Gnumz: Masters of Defense', 'Cloudlands : VR Minigolf', 'Amnesia: Final Revelations', 'Hexus', 'SiN Episodes: Emergence', 'RESCUE 2', 'Super Ubie Island REMIX', 'Mad Bullets', 'Perraw - FPS Clone War', \"Candice DeBébé's Incredibly Trick Lifestyle\"]\n",
      "NayeonIsFab\n",
      "Making predictions for random user NayeonIsFab\n",
      "True\n",
      "Actual games: ['Counter-Strike: Global Offensive', 'MapleStory', \"Don't Starve Together\", 'Left 4 Dead 2', 'Clicker Heroes', 'TERA', 'Unturned', 'Blacklight: Retribution', 'Aura Kingdom', 'Brawlhalla']\n",
      "Predicted games: ['Protonwar', 'Fruit Golf', \"YOU DON'T KNOW JACK\", 'Mensa Academy', 'Tower of Eglathia', 'Family Feud 3: Dream Home', 'Owys', 'Towers of Altrac', 'Rytmik Lite Chiptune Synthesizer', 'Discovering Colors - Animals']\n",
      "76561198012310226\n",
      "Making predictions for random user 76561198012310226\n",
      "True\n",
      "Actual games: ['Rust', 'Left 4 Dead', 'Overlord', 'Overlord: Raising Hell', 'Overlord II']\n",
      "Predicted games: ['MAGIX Photostory 2014 Deluxe', 'Complete Figure Drawing Course HD: 012 - The Formulas for the Front View of the Human Head', 'Run Run And Die', 'The Incredible Baron', 'Typing Instructor Platinum 21', 'Looterkings', 'Ashes of Immortality II', 'Kaboom Monsters', 'Dream Factory', 'Coniclysm']\n",
      "76561198092774409\n",
      "Making predictions for random user 76561198092774409\n",
      "True\n",
      "Actual games: ['Saints Row: The Third', 'Dirty Bomb', 'Call of Duty: Modern Warfare 3', 'Call of Duty: Modern Warfare 3 - Multiplayer', 'Evolve Stage 2']\n",
      "Predicted games: ['Alpha Polaris : A Horror Adventure Game', 'Purino Party', 'Viking Armor / Weapons: 22 - Axe Straps Modeling', 'Gates of Horizon', 'Too Angry to Space', 'Baseball Mogul 2008', 'Let There Be Life', 'AoF World Online', 'CF-3-03 Retopology - Mouth and Teeth', 'Football Manager 2014 Korean']\n",
      "rawritspeter\n",
      "Making predictions for random user rawritspeter\n",
      "True\n",
      "Actual games: ['Counter-Strike: Global Offensive', 'PAYDAY 2', 'Ultra Street Fighter IV', 'Path of Exile', 'MapleStory', \"Garry's Mod\", 'Dirty Bomb', 'Warframe', 'Grand Theft Auto IV', 'Saints Row IV']\n",
      "Predicted games: ['FIFA Manager 10', 'AWA', 'Songs2See Game', 'The Sun at Night', 'UFO Online', 'Paws & Claws: Pet School', 'Mekazoo', 'Black Box', 'Partical City Guardians', 'Rocket Shooter']\n"
     ]
    },
    {
     "name": "stderr",
     "output_type": "stream",
     "text": [
      "Training epoch 13: 100%|██████████| 112511/112511 [15:46<00:00, 118.92it/s]\n"
     ]
    },
    {
     "name": "stdout",
     "output_type": "stream",
     "text": [
      "Epoch 13 - Training loss: 6.79463077232395e-05\n"
     ]
    },
    {
     "name": "stderr",
     "output_type": "stream",
     "text": [
      "Validating epoch 13: 100%|██████████| 24110/24110 [00:32<00:00, 745.11it/s]\n"
     ]
    },
    {
     "name": "stdout",
     "output_type": "stream",
     "text": [
      "Epoch 13 - Validation loss: 7.052780385626584e-05, RMSE: 0.008398185770564824, Precision@5: 0.0\n",
      "JarryBush\n",
      "Making predictions for random user JarryBush\n",
      "True\n",
      "Actual games: [\"Garry's Mod\", 'Golf With Your Friends', 'Ultimate Chicken Horse', 'Counter-Strike: Global Offensive', 'Call of Duty: Black Ops - Multiplayer', 'Gotham City Impostors: Free To Play', 'Middle-earth: Shadow of Mordor', 'Left 4 Dead 2', 'Warface', 'PlanetSide 2']\n",
      "Predicted games: ['DreamDesk VR Beta', 'Kinacoustic', 'Cheaters Blackjack 21', 'Tavernier', 'Bleeding Blocks', 'Pixel Dungeon', 'Sign Motion', 'Viking Armor / Weapons: 12 - Sword UVWs', 'Rocket Shooter', 'Winter Novel']\n",
      "The_Eternal_Bane\n",
      "Making predictions for random user The_Eternal_Bane\n",
      "True\n",
      "Actual games: ['Europa Universalis IV', \"Sid Meier's Civilization V\", 'Counter-Strike: Global Offensive', 'Fallout 4', 'Wasteland 2', 'Galactic Civilizations III', 'Stellaris', 'Mass Effect', 'Victoria II', 'PAYDAY 2']\n",
      "Predicted games: ['MAGIX Photostory 2014 Deluxe', 'Discovering Colors - Animals', 'Family Feud 2', \"Build 'n Bump\", 'The Men of Yoshiwara: Kikuya', 'DreamDesk VR Beta', 'Snapshot', 'Westward 2', 'Platformica', 'Idol Magical Girl Chiru Chiru Michiru Part 2']\n",
      "76561198040694829\n",
      "Making predictions for random user 76561198040694829\n",
      "True\n",
      "Actual games: ['Dota 2 Test']\n",
      "Predicted games: ['The Dog House', 'Line of Defense', 'Line Of Defense Tactics - Tactical Advantage', 'Kodon', 'The Clockwork Man: The Hidden World', 'Footbrawl Playground', 'BitRay2', 'Double Fine Adventure!', 'Treasure Planet Battle at Procyon', \"Deathless: The City's Thirst\"]\n",
      "76561198080553674\n",
      "Making predictions for random user 76561198080553674\n",
      "True\n",
      "Actual games: [\"Garry's Mod\", 'Unturned', 'Counter-Strike: Source', 'Awesomenauts', 'LEGO® MARVEL Super Heroes', 'Left 4 Dead 2', 'BattleBlock Theater', 'Castle Crashers', 'Rust', 'STAR WARS™ Battlefront™ II']\n",
      "Predicted games: ['Steam Summer Getaway', 'DreamDesk VR Beta', 'Wimp: Who Stole My Pants?', 'Riddles Of The Past', 'Grid Masters', \"The Last Dream: Developer's Edition\", 'The Book of Desires', 'Mysteries & Nightmares: Morgiana', 'Blue Rider', 'Uninvited: MacVenture Series']\n",
      "76561198039920599\n",
      "Making predictions for random user 76561198039920599\n",
      "True\n",
      "Actual games: ['Battlefield: Bad Company 2', 'Counter-Strike: Source', 'Cities XL 2011', 'Counter-Strike: Global Offensive', 'Borderlands 2', 'Dota 2 Test']\n",
      "Predicted games: ['Approachable Anatomy', 'ROOT', 'Crash Landing', 'The Room of Black & White', 'Cursed West', 'Nancy Drew Alibi in Ashes', \"Cabela's® Hunting Expeditions\", 'War Operations', 'Viking Armor / Weapons: 04 - Reviewing the Concept', 'OZMAFIA!!']\n"
     ]
    },
    {
     "name": "stderr",
     "output_type": "stream",
     "text": [
      "Training epoch 14: 100%|██████████| 112511/112511 [15:47<00:00, 118.77it/s]\n"
     ]
    },
    {
     "name": "stdout",
     "output_type": "stream",
     "text": [
      "Epoch 14 - Training loss: 6.779759312034184e-05\n"
     ]
    },
    {
     "name": "stderr",
     "output_type": "stream",
     "text": [
      "Validating epoch 14: 100%|██████████| 24110/24110 [00:32<00:00, 748.82it/s]\n"
     ]
    },
    {
     "name": "stdout",
     "output_type": "stream",
     "text": [
      "Epoch 14 - Validation loss: 7.01600688332512e-05, RMSE: 0.008376263490551086, Precision@5: 0.0\n",
      "magoo38\n",
      "Making predictions for random user magoo38\n",
      "True\n",
      "Actual games: ['Counter-Strike: Global Offensive', 'Call of Duty: Black Ops III', 'Grand Theft Auto V', 'Dying Light', 'Arma 3', 'Far Cry® 3', 'Call of Duty: Black Ops II - Multiplayer', 'Dirty Bomb', 'South Park™: The Stick of Truth™', 'Far Cry® 3 Blood Dragon']\n",
      "Predicted games: ['DreamDesk VR Beta', 'Throbax TD', 'Mystery Of Rivenhallows', 'Planet Busters', \"Little King's Story\", 'Web Designer 10', 'Civil War: 1863', 'Complete Figure Drawing Course HD: 019 - Conclusion of the invention of the Human Skull', 'Heckabomb', 'Forsaken Fortress Strategy']\n",
      "76561198068116178\n",
      "Making predictions for random user 76561198068116178\n",
      "True\n",
      "Actual games: ['Dota 2 Test']\n",
      "Predicted games: ['Chronicle Keepers: The Dreaming Garden', 'Battle Girls', 'Black Box', 'UnderWater Adventure', 'The Asskickers', 'Ride the Bullet', 'DEMIAN', 'DreamDesk VR Beta', 'Obscuritas', 'Hard to Be a God']\n",
      "76561198079337907\n",
      "Making predictions for random user 76561198079337907\n",
      "True\n",
      "Actual games: ['Chivalry: Medieval Warfare', 'Mount & Blade: Warband', 'The Binding of Isaac: Rebirth', \"Garry's Mod\", 'Rust', 'The Binding of Isaac', 'Age of Empires II: HD Edition', 'The Elder Scrolls V: Skyrim', 'Total War: SHOGUN 2', 'Counter-Strike: Global Offensive']\n",
      "Predicted games: ['DreamDesk VR Beta', 'Max Payne (FR)', 'Warhammer 40,000: Armageddon - Da Orks', 'FINAL FANTASY® XI: Ultimate Collection Seekers Edition ROW', 'And So It Was', 'Black Hole Hazard', \"The Cat! Porfirio's Adventure\", 'Gunslugs 2', 'SnakEscape', 'Discovering Colors - Animals']\n",
      "76561198084876715\n",
      "Making predictions for random user 76561198084876715\n",
      "True\n",
      "Actual games: ['Counter-Strike: Global Offensive', \"Garry's Mod\", 'Arma 3', 'Resident Evil 6 / Biohazard 6', 'Starbound', 'Far Cry® 3', 'The Mighty Quest For Epic Loot', 'Heroes & Generals', 'Tales from the Borderlands', 'Unturned']\n",
      "Predicted games: ['DreamDesk VR Beta', 'G8 Dynamic Gate (VST/AU)', 'Nancy Drew: Ghost Dogs of Moon Lake ', 'BitRay2', 'Gazzel Quest, The Five Magic Stones', 'Pyroblazer', 'AWA', 'Losing LeBron', 'The Tiny Tale 2', \"Spells 'n' Stuff\"]\n",
      "76561198038048137\n",
      "Making predictions for random user 76561198038048137\n",
      "True\n",
      "Actual games: ['Counter-Strike: Global Offensive', 'Call of Duty: Modern Warfare 3 - Multiplayer', 'Borderlands 2', 'Realm of the Mad God', 'The Elder Scrolls V: Skyrim', 'DayZ', 'Saints Row: The Third', 'Counter-Strike: Source', 'Rust', 'Half-Life 2: Deathmatch']\n",
      "Predicted games: ['Diorama No.1 - Blocked In', 'Hatland Adventures', 'DreamDesk VR Beta', 'InsanZ - Retro Survival Horror', 'Metro Last Light JP', 'Complete Figure Drawing Course HD: 016 - The Journey to 3/4 view of Human Skull  - Part 4', 'The Logomancer', 'Rogue Continuum ', 'Congo', 'Envy the Dead']\n"
     ]
    },
    {
     "name": "stderr",
     "output_type": "stream",
     "text": [
      "Training epoch 15: 100%|██████████| 112511/112511 [15:46<00:00, 118.89it/s]\n"
     ]
    },
    {
     "name": "stdout",
     "output_type": "stream",
     "text": [
      "Epoch 15 - Training loss: 6.748712878261933e-05\n"
     ]
    },
    {
     "name": "stderr",
     "output_type": "stream",
     "text": [
      "Validating epoch 15: 100%|██████████| 24110/24110 [00:31<00:00, 754.97it/s]\n"
     ]
    },
    {
     "name": "stdout",
     "output_type": "stream",
     "text": [
      "Epoch 15 - Validation loss: 7.406794823079943e-05, RMSE: 0.008606377635309028, Precision@5: 0.0\n",
      "76561198015204133\n",
      "Making predictions for random user 76561198015204133\n",
      "True\n",
      "Actual games: [\"Tom Clancy's Ghost Recon Phantoms - NA\", 'Counter-Strike: Global Offensive', 'Left 4 Dead 2', 'Heroes & Generals', 'Unturned', 'Dota 2 Test', 'Star Conflict', 'War Thunder', 'Soldier Front 2', 'Left 4 Dead 2 Beta']\n",
      "Predicted games: ['CF-7-04 Color Maps - Veins and Vessels', 'Existentia', 'DreamDesk VR Beta', 'Color Guardians', 'Viking Armor / Weapons: 07 - Modeling the Helmet', 'Logic Missile', 'Enigmatis 3: The Shadow of Karkhala', 'MegaSphere', 'Mafia II - JAPAN', 'Horrid Henry']\n",
      "Hunter_King\n",
      "Making predictions for random user Hunter_King\n",
      "True\n",
      "Actual games: ['Counter-Strike: Global Offensive', 'Arma 2: Operation Arrowhead', \"Garry's Mod\", 'Arma 2', 'Arma 2: Operation Arrowhead Beta (Obsolete)', 'DETOUR', 'One Way Heroics', 'Lovely Planet', 'Polarity', 'Dota 2 Test']\n",
      "Predicted games: ['Plush', 'Emergency 2012', 'The Life Of Greather', 'Soul Saga', 'Flight 787 - Advanced', 'MyDream', 'The Settlers: Rise of an Empire', 'Near Impact', 'F-16 Multirole Fighter', 'The Impossible Travel Agency']\n",
      "76561198074848495\n",
      "Making predictions for random user 76561198074848495\n",
      "True\n",
      "Actual games: ['The Elder Scrolls V: Skyrim', 'Counter-Strike: Global Offensive', 'The Binding of Isaac', \"Assassin's Creed II\", 'Ace of Spades', 'Terraria', 'Left 4 Dead 2', 'Fallout: New Vegas', 'Magic Duels', 'SMITE']\n",
      "Predicted games: ['Crystal Towers 2', 'Doodle WHAT?!', \"Tomoyo After ~It's a Wonderful Life~ English Edition\", 'DreamDesk VR Beta', 'Mad Max: Fury Road (Theatrical)', 'American Psycho', 'Untamed: Life Of A Cougar', 'Romance of the Three Kingdoms 13', 'Tavernier', 'Clumsy Moose Season']\n",
      "76561198090904895\n",
      "Making predictions for random user 76561198090904895\n",
      "True\n",
      "Actual games: ['Counter-Strike: Global Offensive', 'Arma 2: Operation Arrowhead', 'Age of Empires II: HD Edition', 'Rust', 'Chivalry: Medieval Warfare', 'Counter-Strike: Source', \"Garry's Mod\", 'Arma 2: Operation Arrowhead Beta (Obsolete)', 'Heroes & Generals', 'DayZ']\n",
      "Predicted games: ['DreamDesk VR Beta', 'Metro Last Light JP', 'MLB 2K12', 'Samurai Wars', 'Akin', 'LOST ORBIT', 'Space Grunts', 'MegaSphere', 'Project AURA', 'iRacing']\n",
      "76561198063015551\n",
      "Making predictions for random user 76561198063015551\n",
      "True\n",
      "Actual games: ['Infinite Crisis™', 'Elsword', 'Navy Field 2 : Conqueror of the Ocean', 'theHunter', 'War Thunder', 'FreeStyle2: Street Basketball', 'Soldier Front 2', 'Loadout', 'PlanetSide 2', 'Warframe']\n",
      "Predicted games: ['STOORM - Yellow Edition.', 'The Count Lucanor', 'Kodon', 'Legend', 'Partical City Guardians', 'Roads of Rome', 'DreamDesk VR Beta', \"GOD's DEATH\", 'The Sum of All Fears', \"Dragon's Lair 2: Time Warp\"]\n"
     ]
    },
    {
     "name": "stderr",
     "output_type": "stream",
     "text": [
      "Training epoch 16: 100%|██████████| 112511/112511 [15:45<00:00, 118.97it/s]\n"
     ]
    },
    {
     "name": "stdout",
     "output_type": "stream",
     "text": [
      "Epoch 16 - Training loss: 6.697981898334734e-05\n"
     ]
    },
    {
     "name": "stderr",
     "output_type": "stream",
     "text": [
      "Validating epoch 16: 100%|██████████| 24110/24110 [00:32<00:00, 744.07it/s]\n"
     ]
    },
    {
     "name": "stdout",
     "output_type": "stream",
     "text": [
      "Epoch 16 - Validation loss: 6.968202279669933e-05, RMSE: 0.008347678152879203, Precision@5: 0.0\n",
      "76561198059098764\n",
      "Making predictions for random user 76561198059098764\n",
      "True\n",
      "Actual games: ['Robocraft', 'Prison Architect', \"Garry's Mod\", 'Age of Empires Online', 'Unturned', 'PAYDAY 2', 'Left 4 Dead 2', 'Total War: ROME II - Emperor Edition', 'Warhammer 40,000: Dawn of War – Soulstorm', 'PlanetSide 2']\n",
      "Predicted games: ['Molly', 'Cubicolor', 'Rugby Challenge 2', 'Bravada', 'DreamDesk VR Beta', 'Occurrence at JCR Outpost', 'Miko Gakkou: Second Year', \"Dark Parables: The Little Mermaid and the Purple Tide Collector's Edition\", 'Champions Of Chaos 2', 'TransOcean 2: Rivals']\n",
      "76561198089058865\n",
      "Making predictions for random user 76561198089058865\n",
      "True\n",
      "Actual games: ['Dota 2 Test', 'Afterfall InSanity - Dirty Arena Edition']\n",
      "Predicted games: ['DreamDesk VR Beta', 'Web Designer 10', 'Mystik Belle', 'The Ables: Freepoint High', 'Zen Fish SIM', 'Supreme: Pizza Empire', 'Isbarah', 'City Quest', 'Chronicon', 'Jumpix Jump']\n",
      "76561198065230677\n",
      "Making predictions for random user 76561198065230677\n",
      "True\n",
      "Actual games: [\"Garry's Mod\", 'Spiral Knights', 'Star Conflict', 'Toribash', 'Unturned', 'Smashmuck Champions', 'Dragons and Titans', 'Free to Play', 'Robocraft', 'Dethroned!']\n",
      "Predicted games: ['DreamDesk VR Beta', 'Lucy -The Eternity She Wished For-', 'Dungeon Journey', 'Blender: 1.3 UI Basics - Layout Customization', 'Race Track Builder', 'StarForce: 2193', 'SteamVR Driver for Razer Hydra', 'Red Haze', 'Web Designer 10', 'Runes of Brennos']\n",
      "76561198096745990\n",
      "Making predictions for random user 76561198096745990\n",
      "True\n",
      "Actual games: ['No More Room in Hell', 'Unturned', 'APB Reloaded', 'Teeworlds', 'Robocraft', 'Brawlhalla', 'Relic Hunters Zero', 'Metal War Online: Retribution', 'Warframe', 'War Thunder']\n",
      "Predicted games: ['DreamDesk VR Beta', \"Cabela's® Dangerous Hunts 2013\", 'Star Traders: 4X Empires', 'Drew and the Floating Labyrinth', 'Fantasy Grounds - Call of Cthulhu Ruleset', 'Floors of Discomfort', 'Zombie Office Politics', 'The Bloc', 'Estetiikka', 'Krai Mira']\n",
      "76561198028545074\n",
      "Making predictions for random user 76561198028545074\n",
      "True\n",
      "Actual games: ['Clicker Heroes', 'NBA 2K15', 'Cities: Skylines', 'The Elder Scrolls V: Skyrim', 'Factorio', 'Starbound', 'Software Inc.', 'Unturned', 'Reassembly', 'Call of Duty: Black Ops II - Multiplayer']\n",
      "Predicted games: ['Rocket Riot', 'MAGIX Photostory 2014 Deluxe', 'The Amazing Adventures of Ash - Afterparty', 'City Quest', 'Army of Pixels', 'Emergency 2013', 'Rustangelo', 'Everest VR', 'Box Out!', 'Vertigo']\n"
     ]
    },
    {
     "name": "stderr",
     "output_type": "stream",
     "text": [
      "Training epoch 17:  72%|███████▏  | 81029/112511 [11:22<04:24, 119.12it/s]"
     ]
    }
   ],
   "source": [
    "import wandb\n",
    "from tqdm import tqdm\n",
    "from sklearn.metrics import mean_squared_error\n",
    "from math import sqrt\n",
    "import torch\n",
    "import torch.nn as nn\n",
    "from torch.utils.data import DataLoader\n",
    "\n",
    "\n",
    "wandb.config.update({\n",
    "    \"learning_rate\": 0.001,\n",
    "    \"batch_size\": 32,\n",
    "    \"embed_dim\": 200,\n",
    "    \"epochs\": 20,\n",
    "})\n",
    "\n",
    "#wandb.config.update({\"Model Architecture\": str(model)})\n",
    "\n",
    "# Initialize NCF model, optimizer, and loss function\n",
    "# Assuming you have defined NCF class as discussed\n",
    "model = NCF(num_users=len(user_mapping), num_items=len(item_mapping), embed_dim=200)\n",
    "\n",
    "wandb.config.update({\"Model Architecture\": str(model)})\n",
    "\n",
    "optimizer = torch.optim.Adam(model.parameters(), lr=0.001)\n",
    "criterion = nn.MSELoss()\n",
    "scheduler = torch.optim.lr_scheduler.ReduceLROnPlateau(optimizer, 'min', patience=2, factor=0.5, verbose=True)\n",
    "\n",
    "\n",
    "#scheduler = torch.optim.lr_scheduler.StepLR(optimizer, step_size=5, gamma=0.9)\n",
    "\n",
    "\n",
    "# Move model to device\n",
    "device = torch.device(\"cuda\" if torch.cuda.is_available() else \"cpu\")\n",
    "model = model.to(device)\n",
    "\n",
    "# Number of epochs and interval to save model\n",
    "n_epochs = 20\n",
    "save_interval = 5  # Save every 2 epochs\n",
    "\n",
    "for epoch in range(1, n_epochs + 1):\n",
    "    # Training loop\n",
    "    model.train()\n",
    "    train_loss = 0.0\n",
    "    for batch_idx, batch_data in enumerate(tqdm(train_loader, desc=f\"Training epoch {epoch}\")):\n",
    "        y_batch, user_ids, item_ids = batch_data\n",
    "        y_batch = y_batch.float()\n",
    "        user_ids, item_ids = user_ids.long(), item_ids.long()\n",
    "        y_batch = y_batch.to(device)\n",
    "        user_ids, item_ids = user_ids.to(device), item_ids.to(device)\n",
    "        optimizer.zero_grad()\n",
    "        outputs = model(user_ids, item_ids)\n",
    "        loss = criterion(outputs.squeeze(), y_batch)\n",
    "        loss.backward()\n",
    "        optimizer.step()\n",
    "        \n",
    "        wandb.log({\"Batch Train Loss\": loss.item()}, step=batch_idx)\n",
    "        #scheduler.step()\n",
    "\n",
    "        #wandb.log({\"Batch Train Loss\": loss.item()})\n",
    "        train_loss += loss.item()\n",
    "    \n",
    "    for name, param in model.named_parameters():\n",
    "        if param.requires_grad:\n",
    "            wandb.log({f\"Gradients/{name}\": wandb.Histogram(param.grad.cpu().numpy())})\n",
    "    #scheduler.step()\n",
    "    # Inside your training loop\n",
    "    wandb.log({\"Learning Rate\": scheduler.optimizer.param_groups[0]['lr']})\n",
    "    train_loss /= len(train_loader)\n",
    "    wandb.log({\"Train Loss\": train_loss})\n",
    "    print(f\"Epoch {epoch} - Training loss: {train_loss}\")\n",
    "\n",
    "    # Validation loop\n",
    "    model.eval()\n",
    "    y_true_val = []\n",
    "    y_pred_val = []\n",
    "    val_loss = 0.0\n",
    "    with torch.no_grad():\n",
    "        for batch_data in tqdm(val_loader, desc=f\"Validating epoch {epoch}\"):\n",
    "            y_batch, user_ids, item_ids = batch_data\n",
    "            \n",
    "            y_batch = y_batch.float()\n",
    "\n",
    "            user_ids, item_ids = user_ids.long(), item_ids.long()\n",
    "\n",
    "            y_batch = y_batch.to(device)\n",
    "\n",
    "            user_ids, item_ids = user_ids.to(device), item_ids.to(device)\n",
    "\n",
    "            outputs = model(user_ids, item_ids)\n",
    "\n",
    "            loss = criterion(outputs.squeeze(), y_batch)\n",
    "\n",
    "            batch_rmse = sqrt(mean_squared_error(y_batch.cpu().numpy(), outputs.cpu().numpy()))\n",
    "            wandb.log({\"Batch Validation RMSE\": batch_rmse})\n",
    "\n",
    "\n",
    "            val_loss += loss.item()\n",
    "            y_true_val.extend(y_batch.cpu().numpy())\n",
    "            y_pred_val.extend(outputs.cpu().numpy())\n",
    "\n",
    "    val_loss /= len(val_loader)\n",
    "    scheduler.step(val_loss)\n",
    "    val_rmse = sqrt(mean_squared_error(y_true_val, y_pred_val))\n",
    "    val_precision_at_k = precision_at_k(np.array(y_true_val), np.array(y_pred_val), k=5)\n",
    "    wandb.log({\"Validation Loss\": val_loss, \"Validation RMSE\": val_rmse, \"Validation Precision@5\": val_precision_at_k})\n",
    "    print(f\"Epoch {epoch} - Validation loss: {val_loss}, RMSE: {val_rmse}, Precision@5: {val_precision_at_k}\")\n",
    "\n",
    "    # Log example users\n",
    "    table_rows = []\n",
    "    for _ in range(5):\n",
    "        random_user_id, random_top_k_games = predict_for_random_user(model, user_mapping, item_mapping, user_item_df, k=10)\n",
    "        actual_games = get_actual_top_k_games(user_mapping[random_user_id], user_item_df, user_mapping, k=10)\n",
    "        print(f\"Actual games: {actual_games}\")\n",
    "        print(f\"Predicted games: {random_top_k_games}\")\n",
    "        # Create a row for this user\n",
    "        row = [random_user_id, \", \".join(actual_games), \", \".join(random_top_k_games)]\n",
    "        \n",
    "        # Add this row to the table\n",
    "        table_rows.append(row)\n",
    "        \n",
    "    table = wandb.Table(data=table_rows, columns=[\"User ID\", \"Actual Top-5 Games\", \"Predicted Top-5 Games\"])\n",
    "\n",
    "    wandb.log({f\"Example Users Epoch {epoch}\": table})\n",
    "    \n",
    "    # Save the model at intervals\n",
    "    if epoch % save_interval == 0:\n",
    "        torch.save(model.state_dict(), f\"model_epoch_{epoch}.pt\")\n",
    "        wandb.save(f\"model_epoch_{epoch}.pt\")"
   ]
  },
  {
   "cell_type": "code",
   "execution_count": null,
   "metadata": {},
   "outputs": [],
   "source": [
    "user_mapping"
   ]
  },
  {
   "cell_type": "markdown",
   "metadata": {},
   "source": [
    "   val_loss /= len(val_loader)\n",
    "    val_rmse = sqrt(mean_squared_error(y_true_val, y_pred_val))\n",
    "    val_precision_at_k = precision_at_k(np.array(y_true_val), np.array(y_pred_val), k=5)\n",
    "    \n",
    "    print(f\"Epoch {epoch} - Validation loss: {val_loss}, RMSE: {val_rmse}, Precision@5: {val_precision_at_k}\")\n",
    "\n",
    "    # Display top-k games for a sample user (let's say the first user in our dataset)\n",
    "    #sample_user_id = list(user_mapping.keys())[0]\n",
    "\n",
    "    random_user_id, random_top_k_games = predict_for_random_user(model, user_mapping, item_mapping, user_item_df, k=5)\n",
    "    print(f\"Actual top 5 games for user {random_user_id}: {get_actual_top_k_games(user_mapping[random_user_id], user_item_df, user_mapping, k=5)}\")\n",
    "    print(f\"Predicted top 5 games for user {random_user_id}: {random_top_k_games}\")"
   ]
  },
  {
   "cell_type": "code",
   "execution_count": null,
   "metadata": {},
   "outputs": [],
   "source": []
  }
 ],
 "metadata": {
  "kernelspec": {
   "display_name": "Python 3 (ipykernel)",
   "language": "python",
   "name": "python3"
  },
  "language_info": {
   "codemirror_mode": {
    "name": "ipython",
    "version": 3
   },
   "file_extension": ".py",
   "mimetype": "text/x-python",
   "name": "python",
   "nbconvert_exporter": "python",
   "pygments_lexer": "ipython3",
   "version": "3.9.16"
  },
  "orig_nbformat": 4
 },
 "nbformat": 4,
 "nbformat_minor": 2
}
