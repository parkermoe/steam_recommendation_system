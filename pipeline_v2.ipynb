{
 "cells": [
  {
   "cell_type": "code",
   "execution_count": 1,
   "metadata": {},
   "outputs": [],
   "source": [
    "from typing import Tuple, Dict, Any\n",
    "from preprocessing_utils import *\n",
    "from sklearn.feature_extraction.text import TfidfVectorizer\n",
    "from sklearn.preprocessing import StandardScaler\n",
    "import numpy as np\n",
    "from sklearn.model_selection import train_test_split\n",
    "from torch.utils.data import Dataset, DataLoader\n",
    "import torch\n",
    "from tqdm import tqdm\n",
    "from torch.optim import Adam\n",
    "from sklearn.metrics import mean_squared_error\n",
    "from sklearn.preprocessing import MinMaxScaler\n",
    "\n",
    "\n",
    "device = torch.device(\"cuda:0\" if torch.cuda.is_available() else \"mps\")\n",
    "\n",
    "user_item_path = '/Volumes/DeepLearner/Search & Recommendation System/Data/australian_users_items_clean.json'\n",
    "review_path = '/Volumes/DeepLearner/Search & Recommendation System/Data/steam_reviews_clean.json'"
   ]
  },
  {
   "cell_type": "code",
   "execution_count": 2,
   "metadata": {},
   "outputs": [],
   "source": [
    "def create_mappings(df, column):\n",
    "    unique_ids = df[column].unique()\n",
    "    print(f\"Number of unique {column}: {len(unique_ids)}\")\n",
    "    id_to_idx = {id_: idx for idx, id_ in enumerate(unique_ids)}\n",
    "    return id_to_idx\n",
    "\n",
    "class SteamDataset(Dataset):\n",
    "    def __init__(self, user_item_df, review_df, user_mapping, item_mapping):\n",
    "        self.merged_df = pd.merge(user_item_df, review_df, how='inner', on=['user_id', 'item_id'])\n",
    "        \n",
    "        self.merged_df['user_idx'] = self.merged_df['user_id'].map(user_mapping)\n",
    "        self.merged_df['item_idx'] = self.merged_df['item_id'].map(item_mapping)\n",
    "\n",
    "        print(f\"Missing user_idx: {self.merged_df['user_idx'].isna().sum()}\")\n",
    "        print(f\"Missing item_idx: {self.merged_df['item_idx'].isna().sum()}\")\n",
    "        \n",
    "        \n",
    "        # TF-IDF Vectorization\n",
    "        self.tfidf_vectorizer = TfidfVectorizer(max_features=5000)\n",
    "        self.X_text = self.tfidf_vectorizer.fit_transform(self.merged_df['review']).toarray()\n",
    "        \n",
    "        # Scaling playtime\n",
    "        self.scaler = MinMaxScaler(feature_range=(0, 1))\n",
    "        self.y = self.scaler.fit_transform(self.merged_df['playtime_forever'].values.reshape(-1, 1)).flatten()\n",
    "        \n",
    "        self.user_idxs = self.merged_df['user_idx'].values\n",
    "        self.item_idxs = self.merged_df['item_idx'].values\n",
    "    \n",
    "    def __len__(self):\n",
    "        return len(self.merged_df)\n",
    "    \n",
    "    def __getitem__(self, idx):\n",
    "        return self.X_text[idx], self.y[idx], self.user_idxs[idx], self.item_idxs[idx]"
   ]
  },
  {
   "cell_type": "code",
   "execution_count": 3,
   "metadata": {},
   "outputs": [],
   "source": [
    "from sklearn.model_selection import train_test_split\n",
    "\n",
    "def prepare_data_loaders(user_item_path, review_path, batch_size=32):\n",
    "    # Load data\n",
    "    user_item_df = load_json_to_df(user_item_path)\n",
    "    review_df = load_review_json_to_df(review_path)\n",
    "    \n",
    "    # Drop duplicates based on 'user_id' and 'item_id'\n",
    "    user_item_df.drop_duplicates(subset=['user_id', 'item_id'], inplace=True)\n",
    "    review_df.drop_duplicates(subset=['user_id', 'item_id'], inplace=True)\n",
    "    \n",
    "    # Create an initial dataset to get the merged_df\n",
    "    initial_dataset = SteamDataset(user_item_df, review_df, {}, {})\n",
    "    merged_df = initial_dataset.merged_df\n",
    "    \n",
    "    # Create mappings based on the merged_df\n",
    "    user_mapping = create_mappings(merged_df, 'user_id')\n",
    "    item_mapping = create_mappings(merged_df, 'item_id')\n",
    "\n",
    "    # Create the final dataset using the new mappings\n",
    "    full_dataset = SteamDataset(user_item_df, review_df, user_mapping, item_mapping)\n",
    "\n",
    "    # Split into train, validation, and test sets\n",
    "    train_size = int(0.7 * len(full_dataset))\n",
    "    val_size = int(0.15 * len(full_dataset))\n",
    "    test_size = len(full_dataset) - train_size - val_size\n",
    "\n",
    "    train_dataset, val_dataset, test_dataset = torch.utils.data.random_split(\n",
    "        full_dataset, [train_size, val_size, test_size])\n",
    "\n",
    "    # Create DataLoader for each set\n",
    "    train_loader = DataLoader(train_dataset, batch_size=batch_size, shuffle=True)\n",
    "    val_loader = DataLoader(val_dataset, batch_size=batch_size, shuffle=False)\n",
    "    test_loader = DataLoader(test_dataset, batch_size=batch_size, shuffle=False)\n",
    "\n",
    "   # train_loader, val_loader, test_loader, user_mapping, item_mapping, merged_df, tfidf_matrix = prepare_data_loaders(user_item_path, review_path)\n",
    "\n",
    "\n",
    "    return train_loader, val_loader, test_loader, user_mapping, item_mapping, full_dataset.merged_df, full_dataset.X_text"
   ]
  },
  {
   "cell_type": "code",
   "execution_count": 4,
   "metadata": {},
   "outputs": [],
   "source": [
    "def get_actual_top_k_games(user_id, merged_df, k=5):\n",
    "    user_data = merged_df[merged_df['user_idx'] == user_id]\n",
    "    top_k_actual = user_data.sort_values(by='playtime_forever', ascending=False).head(k)\n",
    "    return top_k_actual['item_name'].tolist()"
   ]
  },
  {
   "cell_type": "code",
   "execution_count": 5,
   "metadata": {},
   "outputs": [],
   "source": [
    "def get_predicted_top_k_games(model, user_id, user_mapping, item_mapping, merged_df, tfidf_matrix, k=5):\n",
    "    model.eval()\n",
    "    #print(\"All unique item_idx in merged_df:\", merged_df['item_idx'].unique())\n",
    "\n",
    "    # Convert to tensor and repeat to match the number of items\n",
    "    user_idx = torch.LongTensor([user_mapping[user_id]] * len(item_mapping)).to(device)\n",
    "    \n",
    "    # Make sure to bring the tensor to CPU before converting to NumPy for indexing\n",
    "    all_item_idxs_cpu = torch.LongTensor(list(item_mapping.values())).cpu().numpy()\n",
    "    \n",
    "    # Extract the TF-IDF features for all items, make sure they are on the same device as the model\n",
    "    tfidf_features = torch.FloatTensor(tfidf_matrix[all_item_idxs_cpu]).to(device)\n",
    "    \n",
    "    # Convert all_item_idxs back to a tensor and move to the same device as the model\n",
    "    all_item_idxs = torch.LongTensor(all_item_idxs_cpu).to(device)\n",
    "\n",
    "    # Make predictions\n",
    "    with torch.no_grad():\n",
    "        predictions = model(user_idx, all_item_idxs, tfidf_features).cpu().numpy().flatten()\n",
    "\n",
    "    # Extract top-k items\n",
    "    top_k_indices = predictions.argsort()[-k:][::-1]\n",
    "    top_k_item_idxs = [list(item_mapping.values())[i] for i in top_k_indices]\n",
    "    #print(\"Top K item indices:\", top_k_item_idxs)\n",
    "    #print(\"All unique item_idx in merged_df:\", sorted(merged_df['item_idx'].unique()))\n",
    "    #print(\"Top K item indices:\", top_k_item_idxs)\n",
    "\n",
    "    top_k_item_names = [merged_df.loc[merged_df['item_idx'] == idx, 'item_name'].iloc[0] for idx in top_k_item_idxs]\n",
    "\n",
    "    return top_k_item_names\n"
   ]
  },
  {
   "cell_type": "code",
   "execution_count": 6,
   "metadata": {},
   "outputs": [],
   "source": [
    "import torch\n",
    "import torch.nn as nn\n",
    "import torch.nn.functional as F\n",
    "\n",
    "class HybridModel(nn.Module):\n",
    "    def __init__(self, num_users, num_items, num_text_features, embedding_dim):\n",
    "        super(HybridModel, self).__init__()\n",
    "        \n",
    "        # User and Item Embeddings\n",
    "        self.user_embedding = nn.Embedding(num_users, embedding_dim)\n",
    "        self.item_embedding = nn.Embedding(num_items, embedding_dim)\n",
    "        \n",
    "        # Text feature layers\n",
    "        self.text_layers = nn.Sequential(\n",
    "            nn.Linear(num_text_features, 128),\n",
    "            nn.ReLU(),\n",
    "            nn.Linear(128, 32),\n",
    "            nn.ReLU()\n",
    "        )\n",
    "        \n",
    "        # Combined layers\n",
    "        self.combined_layers = nn.Sequential(\n",
    "            nn.Linear(embedding_dim * 2 + 32, 128),\n",
    "            nn.ReLU(),\n",
    "            nn.Linear(128, 1)\n",
    "        )\n",
    "        \n",
    "    def forward(self, user_ids, item_ids, text_features):\n",
    "        user_embedding = self.user_embedding(user_ids)\n",
    "        item_embedding = self.item_embedding(item_ids)\n",
    "        \n",
    "        text_output = self.text_layers(text_features)\n",
    "        \n",
    "        # Concatenate the embeddings and text features\n",
    "        combined_input = torch.cat([user_embedding, item_embedding, text_output], dim=1)\n",
    "        \n",
    "        output = self.combined_layers(combined_input)\n",
    "\n",
    "        output = torch.sigmoid(output)\n",
    "        \n",
    "        return output"
   ]
  },
  {
   "cell_type": "code",
   "execution_count": 7,
   "metadata": {},
   "outputs": [
    {
     "name": "stdout",
     "output_type": "stream",
     "text": [
      "Missing user_idx: 44186\n",
      "Missing item_idx: 44186\n",
      "Number of unique user_id: 19913\n",
      "Number of unique item_id: 3097\n",
      "Missing user_idx: 0\n",
      "Missing item_idx: 0\n"
     ]
    }
   ],
   "source": [
    "train_loader, val_loader, test_loader, user_mapping, item_mapping, merged_df, tfidf_matrix = prepare_data_loaders(user_item_path, review_path)"
   ]
  },
  {
   "cell_type": "code",
   "execution_count": 8,
   "metadata": {},
   "outputs": [
    {
     "name": "stdout",
     "output_type": "stream",
     "text": [
      "Are there duplicate (user_id, item_id) pairs? False\n",
      "Missing user_idx: 0\n",
      "Missing item_idx: 0\n",
      "Shape of X_text: 44186\n",
      "Expected shape: 44186\n",
      "Length of user_mapping: 19913\n",
      "Length of item_mapping: 3097\n",
      "Unique user_ids: 19913\n",
      "Unique item_ids: 3097\n"
     ]
    }
   ],
   "source": [
    "# Step 1\n",
    "print(\"Are there duplicate (user_id, item_id) pairs?\", any(merged_df.duplicated(['user_id', 'item_id'])))\n",
    "print(\"Missing user_idx:\", merged_df['user_idx'].isnull().sum())\n",
    "print(\"Missing item_idx:\", merged_df['item_idx'].isnull().sum())\n",
    "\n",
    "# Step 2\n",
    "print(f\"Shape of X_text: {tfidf_matrix.shape[0]}\")\n",
    "print(f\"Expected shape: {len(merged_df)}\")\n",
    "print(f\"Length of user_mapping: {len(user_mapping)}\")\n",
    "print(f\"Length of item_mapping: {len(item_mapping)}\")\n",
    "print(f\"Unique user_ids: {merged_df['user_id'].nunique()}\")\n",
    "print(f\"Unique item_ids: {merged_df['item_id'].nunique()}\")\n",
    "\n",
    "# Step 4: Validate by printing or manually inspecting\n",
    "# (You can print sample batches from DataLoader here)\n",
    "\n",
    "# Step 5: Done in get_predicted_top_k_games function\n"
   ]
  },
  {
   "cell_type": "code",
   "execution_count": 9,
   "metadata": {},
   "outputs": [
    {
     "name": "stderr",
     "output_type": "stream",
     "text": [
      "Training epoch 1: 100%|██████████| 967/967 [00:08<00:00, 120.77it/s]\n"
     ]
    },
    {
     "name": "stdout",
     "output_type": "stream",
     "text": [
      "Epoch 1 - Training loss: 0.005843912543573466\n"
     ]
    },
    {
     "name": "stderr",
     "output_type": "stream",
     "text": [
      "Validating epoch 1: 100%|██████████| 208/208 [00:00<00:00, 314.40it/s]\n"
     ]
    },
    {
     "name": "stdout",
     "output_type": "stream",
     "text": [
      "Epoch 1 - Validation loss: 0.0010694802717457956, RMSE: 0.03262546949544343, Precision@5: 1.5557592269033195e-05\n",
      "Making predictions for random user The-Burnt_Toast\n",
      "Actual top 5 games for user The-Burnt_Toast: ['Grand Theft Auto V', 'Warhammer® 40,000™: Dawn of War® II - Chaos Rising™']\n",
      "Predicted top 5 games for user The-Burnt_Toast: ['Run and Fire', 'Heli Heroes', 'Audiosurf 2', 'Pro Cycling Manager 2013', 'Poof']\n"
     ]
    },
    {
     "name": "stderr",
     "output_type": "stream",
     "text": [
      "Training epoch 2: 100%|██████████| 967/967 [00:07<00:00, 128.99it/s]\n"
     ]
    },
    {
     "name": "stdout",
     "output_type": "stream",
     "text": [
      "Epoch 2 - Training loss: 0.0008392266563523352\n"
     ]
    },
    {
     "name": "stderr",
     "output_type": "stream",
     "text": [
      "Validating epoch 2: 100%|██████████| 208/208 [00:00<00:00, 345.00it/s]\n"
     ]
    },
    {
     "name": "stdout",
     "output_type": "stream",
     "text": [
      "Epoch 2 - Validation loss: 0.000976856985604312, RMSE: 0.031176247215421334, Precision@5: 1.5557592269033195e-05\n",
      "Making predictions for random user thestreetsshallrunwhite\n",
      "Actual top 5 games for user thestreetsshallrunwhite: ['Our Darker Purpose', 'Majesty 2', 'Hack, Slash, Loot']\n",
      "Predicted top 5 games for user thestreetsshallrunwhite: ['Counter-Strike: Global Offensive', \"Baldur's Gate: Enhanced Edition\", 'Fable Anniversary', 'Left Alone', 'Punch Club']\n"
     ]
    },
    {
     "name": "stderr",
     "output_type": "stream",
     "text": [
      "Training epoch 3: 100%|██████████| 967/967 [00:07<00:00, 132.94it/s]\n"
     ]
    },
    {
     "name": "stdout",
     "output_type": "stream",
     "text": [
      "Epoch 3 - Training loss: 0.000725085997986275\n"
     ]
    },
    {
     "name": "stderr",
     "output_type": "stream",
     "text": [
      "Validating epoch 3: 100%|██████████| 208/208 [00:00<00:00, 347.97it/s]\n"
     ]
    },
    {
     "name": "stdout",
     "output_type": "stream",
     "text": [
      "Epoch 3 - Validation loss: 0.0010104547569916088, RMSE: 0.03170060893046562, Precision@5: 1.5557592269033195e-05\n",
      "Making predictions for random user lol_ursuchanoob\n",
      "Actual top 5 games for user lol_ursuchanoob: ['PAYDAY 2', 'Far Cry® 3', 'Grand Theft Auto IV', 'Crysis']\n",
      "Predicted top 5 games for user lol_ursuchanoob: ['Two Worlds II', 'The Lord of the Rings Online™', 'Construct 2 Free', 'Duke Nukem 3D: Megaton Edition', 'Forward to the Sky']\n"
     ]
    },
    {
     "name": "stderr",
     "output_type": "stream",
     "text": [
      "Training epoch 4: 100%|██████████| 967/967 [00:07<00:00, 131.60it/s]\n"
     ]
    },
    {
     "name": "stdout",
     "output_type": "stream",
     "text": [
      "Epoch 4 - Training loss: 0.0006185669677250842\n"
     ]
    },
    {
     "name": "stderr",
     "output_type": "stream",
     "text": [
      "Validating epoch 4: 100%|██████████| 208/208 [00:00<00:00, 332.28it/s]\n"
     ]
    },
    {
     "name": "stdout",
     "output_type": "stream",
     "text": [
      "Epoch 4 - Validation loss: 0.0010690496450689142, RMSE: 0.0326180949056348, Precision@5: 1.5557592269033195e-05\n",
      "Making predictions for random user FloppyMop\n",
      "Actual top 5 games for user FloppyMop: ['Counter-Strike: Global Offensive']\n",
      "Predicted top 5 games for user FloppyMop: ['Two Worlds II', 'The Lord of the Rings Online™', 'Forward to the Sky', 'Cognition: An Erica Reed Thriller', \"Assassin's Creed Liberation\"]\n"
     ]
    },
    {
     "name": "stderr",
     "output_type": "stream",
     "text": [
      "Training epoch 5: 100%|██████████| 967/967 [00:07<00:00, 137.68it/s]\n"
     ]
    },
    {
     "name": "stdout",
     "output_type": "stream",
     "text": [
      "Epoch 5 - Training loss: 0.0005199647936962773\n"
     ]
    },
    {
     "name": "stderr",
     "output_type": "stream",
     "text": [
      "Validating epoch 5: 100%|██████████| 208/208 [00:00<00:00, 347.60it/s]\n"
     ]
    },
    {
     "name": "stdout",
     "output_type": "stream",
     "text": [
      "Epoch 5 - Validation loss: 0.0010283462324528396, RMSE: 0.031987151677070384, Precision@5: 1.5557592269033195e-05\n",
      "Making predictions for random user SuperScoops_\n",
      "Actual top 5 games for user SuperScoops_: ['Narcissu 1st & 2nd']\n",
      "Predicted top 5 games for user SuperScoops_: ['DOOM 3: BFG Edition', 'Cities XXL', 'Construct 2 Free', 'Two Worlds II', 'Hero Zero']\n"
     ]
    },
    {
     "name": "stderr",
     "output_type": "stream",
     "text": [
      "Training epoch 6: 100%|██████████| 967/967 [00:07<00:00, 134.63it/s]\n"
     ]
    },
    {
     "name": "stdout",
     "output_type": "stream",
     "text": [
      "Epoch 6 - Training loss: 0.0004405346748568628\n"
     ]
    },
    {
     "name": "stderr",
     "output_type": "stream",
     "text": [
      "Validating epoch 6: 100%|██████████| 208/208 [00:00<00:00, 348.80it/s]\n"
     ]
    },
    {
     "name": "stdout",
     "output_type": "stream",
     "text": [
      "Epoch 6 - Validation loss: 0.001091293900047346, RMSE: 0.03295583003455855, Precision@5: 1.5557592269033195e-05\n",
      "Making predictions for random user Plka\n",
      "Actual top 5 games for user Plka: [\"Tom Clancy's Rainbow Six Siege\", 'PAYDAY 2', 'Train Simulator']\n",
      "Predicted top 5 games for user Plka: ['Absconding Zatwor', 'FleetCOMM', 'The Lord of the Rings Online™', 'Skulls of the Shogun', 'Cult of the Wind']\n"
     ]
    },
    {
     "name": "stderr",
     "output_type": "stream",
     "text": [
      "Training epoch 7: 100%|██████████| 967/967 [00:07<00:00, 132.66it/s]\n"
     ]
    },
    {
     "name": "stdout",
     "output_type": "stream",
     "text": [
      "Epoch 7 - Training loss: 0.00039463491646109814\n"
     ]
    },
    {
     "name": "stderr",
     "output_type": "stream",
     "text": [
      "Validating epoch 7: 100%|██████████| 208/208 [00:00<00:00, 351.42it/s]\n"
     ]
    },
    {
     "name": "stdout",
     "output_type": "stream",
     "text": [
      "Epoch 7 - Validation loss: 0.001058791474843719, RMSE: 0.03245348402092418, Precision@5: 1.5557592269033195e-05\n",
      "Making predictions for random user Kartoffel_\n",
      "Actual top 5 games for user Kartoffel_: ['Counter-Strike: Global Offensive']\n",
      "Predicted top 5 games for user Kartoffel_: ['Construct 2 Free', 'Farnham Fables', 'Cognition: An Erica Reed Thriller', 'The Lord of the Rings Online™', 'No Time to Explain']\n"
     ]
    },
    {
     "name": "stderr",
     "output_type": "stream",
     "text": [
      "Training epoch 8: 100%|██████████| 967/967 [00:07<00:00, 132.61it/s]\n"
     ]
    },
    {
     "name": "stdout",
     "output_type": "stream",
     "text": [
      "Epoch 8 - Training loss: 0.0003328558272499622\n"
     ]
    },
    {
     "name": "stderr",
     "output_type": "stream",
     "text": [
      "Validating epoch 8: 100%|██████████| 208/208 [00:00<00:00, 349.50it/s]\n"
     ]
    },
    {
     "name": "stdout",
     "output_type": "stream",
     "text": [
      "Epoch 8 - Validation loss: 0.001083255961440535, RMSE: 0.03283621563930914, Precision@5: 1.5557592269033195e-05\n",
      "Making predictions for random user henrezy\n",
      "Actual top 5 games for user henrezy: ['Crea']\n",
      "Predicted top 5 games for user henrezy: ['The Lord of the Rings Online™', 'Project X', 'Farnham Fables', 'Rugby Challenge', 'Punch Club']\n"
     ]
    },
    {
     "name": "stderr",
     "output_type": "stream",
     "text": [
      "Training epoch 9: 100%|██████████| 967/967 [00:07<00:00, 132.76it/s]\n"
     ]
    },
    {
     "name": "stdout",
     "output_type": "stream",
     "text": [
      "Epoch 9 - Training loss: 0.0002859581782612102\n"
     ]
    },
    {
     "name": "stderr",
     "output_type": "stream",
     "text": [
      "Validating epoch 9: 100%|██████████| 208/208 [00:00<00:00, 339.92it/s]\n"
     ]
    },
    {
     "name": "stdout",
     "output_type": "stream",
     "text": [
      "Epoch 9 - Validation loss: 0.0010460611528497583, RMSE: 0.03225240249426999, Precision@5: 1.5557592269033195e-05\n",
      "Making predictions for random user 76561198149898927\n",
      "Actual top 5 games for user 76561198149898927: ['Broforce', 'Undertale', 'Mandagon']\n",
      "Predicted top 5 games for user 76561198149898927: ['Project X', 'Farnham Fables', 'Prince of Persia: The Sands of Time', 'The Lord of the Rings Online™', 'Hero Zero']\n"
     ]
    },
    {
     "name": "stderr",
     "output_type": "stream",
     "text": [
      "Training epoch 10: 100%|██████████| 967/967 [00:07<00:00, 134.69it/s]\n"
     ]
    },
    {
     "name": "stdout",
     "output_type": "stream",
     "text": [
      "Epoch 10 - Training loss: 0.0002468711603657493\n"
     ]
    },
    {
     "name": "stderr",
     "output_type": "stream",
     "text": [
      "Validating epoch 10: 100%|██████████| 208/208 [00:00<00:00, 348.12it/s]\n"
     ]
    },
    {
     "name": "stdout",
     "output_type": "stream",
     "text": [
      "Epoch 10 - Validation loss: 0.0010661770323587495, RMSE: 0.032572834831210117, Precision@5: 1.5557592269033195e-05\n",
      "Making predictions for random user laislabonita75\n",
      "Actual top 5 games for user laislabonita75: [\"Aero's Quest\", 'Another Perspective']\n",
      "Predicted top 5 games for user laislabonita75: ['Project X', 'Farnham Fables', 'Cult of the Wind', 'No Time to Explain', 'Rugby Challenge']\n"
     ]
    },
    {
     "name": "stderr",
     "output_type": "stream",
     "text": [
      "Training epoch 11: 100%|██████████| 967/967 [00:07<00:00, 134.31it/s]\n"
     ]
    },
    {
     "name": "stdout",
     "output_type": "stream",
     "text": [
      "Epoch 11 - Training loss: 0.00021644183618213135\n"
     ]
    },
    {
     "name": "stderr",
     "output_type": "stream",
     "text": [
      "Validating epoch 11: 100%|██████████| 208/208 [00:00<00:00, 336.60it/s]\n"
     ]
    },
    {
     "name": "stdout",
     "output_type": "stream",
     "text": [
      "Epoch 11 - Validation loss: 0.001044923333560851, RMSE: 0.032248688096108244, Precision@5: 1.5557592269033195e-05\n",
      "Making predictions for random user 76561198095562061\n",
      "Actual top 5 games for user 76561198095562061: ['Far Cry® 3', 'Loadout', 'Orcs Must Die! 2', 'Hotline Miami', 'The Ship']\n",
      "Predicted top 5 games for user 76561198095562061: ['Project X', 'Punch Club', 'The Lord of the Rings Online™', 'No Time to Explain', 'Rugby Challenge']\n"
     ]
    },
    {
     "name": "stderr",
     "output_type": "stream",
     "text": [
      "Training epoch 12: 100%|██████████| 967/967 [00:07<00:00, 134.08it/s]\n"
     ]
    },
    {
     "name": "stdout",
     "output_type": "stream",
     "text": [
      "Epoch 12 - Training loss: 0.00019446662386327857\n"
     ]
    },
    {
     "name": "stderr",
     "output_type": "stream",
     "text": [
      "Validating epoch 12: 100%|██████████| 208/208 [00:00<00:00, 341.77it/s]\n"
     ]
    },
    {
     "name": "stdout",
     "output_type": "stream",
     "text": [
      "Epoch 12 - Validation loss: 0.0010733456879979013, RMSE: 0.03268277852929346, Precision@5: 1.5557592269033195e-05\n",
      "Making predictions for random user Rwby_Rose\n",
      "Actual top 5 games for user Rwby_Rose: ['Counter-Strike: Global Offensive', 'Rust', 'PAYDAY 2', 'LoveBeat', 'Dr. Langeskov, The Tiger, and The Terribly Cursed Emerald: A Whirlwind Heist']\n",
      "Predicted top 5 games for user Rwby_Rose: ['Project X', 'Farnham Fables', 'Rugby Challenge', 'Cognition: An Erica Reed Thriller', 'The Lord of the Rings Online™']\n"
     ]
    },
    {
     "name": "stderr",
     "output_type": "stream",
     "text": [
      "Training epoch 13: 100%|██████████| 967/967 [00:07<00:00, 134.60it/s]\n"
     ]
    },
    {
     "name": "stdout",
     "output_type": "stream",
     "text": [
      "Epoch 13 - Training loss: 0.00016998566551504907\n"
     ]
    },
    {
     "name": "stderr",
     "output_type": "stream",
     "text": [
      "Validating epoch 13: 100%|██████████| 208/208 [00:00<00:00, 339.50it/s]\n"
     ]
    },
    {
     "name": "stdout",
     "output_type": "stream",
     "text": [
      "Epoch 13 - Validation loss: 0.001228292047436788, RMSE: 0.03504007735106364, Precision@5: 1.5557592269033195e-05\n",
      "Making predictions for random user Guillermo_Meza\n",
      "Actual top 5 games for user Guillermo_Meza: ['Papers, Please']\n",
      "Predicted top 5 games for user Guillermo_Meza: ['Cult of the Wind', 'No Time to Explain', 'Project X', 'Farnham Fables', 'Rugby Challenge']\n"
     ]
    },
    {
     "name": "stderr",
     "output_type": "stream",
     "text": [
      "Training epoch 14: 100%|██████████| 967/967 [00:07<00:00, 135.32it/s]\n"
     ]
    },
    {
     "name": "stdout",
     "output_type": "stream",
     "text": [
      "Epoch 14 - Training loss: 0.00015204786363529052\n"
     ]
    },
    {
     "name": "stderr",
     "output_type": "stream",
     "text": [
      "Validating epoch 14: 100%|██████████| 208/208 [00:00<00:00, 346.79it/s]\n"
     ]
    },
    {
     "name": "stdout",
     "output_type": "stream",
     "text": [
      "Epoch 14 - Validation loss: 0.0010677685446143397, RMSE: 0.03259607719793266, Precision@5: 1.5557592269033195e-05\n",
      "Making predictions for random user troiani8\n",
      "Actual top 5 games for user troiani8: [\"Garry's Mod\", 'Guncraft', 'Portal 2', 'MapleStory', 'Medal of Honor(TM) Single Player']\n",
      "Predicted top 5 games for user troiani8: ['Project X', 'Farnham Fables', 'Cult of the Wind', 'Rugby Challenge', 'Mount & Blade: Warband']\n"
     ]
    },
    {
     "name": "stderr",
     "output_type": "stream",
     "text": [
      "Training epoch 15: 100%|██████████| 967/967 [00:07<00:00, 134.95it/s]\n"
     ]
    },
    {
     "name": "stdout",
     "output_type": "stream",
     "text": [
      "Epoch 15 - Training loss: 0.0001380737625313505\n"
     ]
    },
    {
     "name": "stderr",
     "output_type": "stream",
     "text": [
      "Validating epoch 15: 100%|██████████| 208/208 [00:00<00:00, 325.81it/s]\n"
     ]
    },
    {
     "name": "stdout",
     "output_type": "stream",
     "text": [
      "Epoch 15 - Validation loss: 0.0011214165388432425, RMSE: 0.0334493608584198, Precision@5: 1.5557592269033195e-05\n",
      "Making predictions for random user 76561198076356585\n",
      "Actual top 5 games for user 76561198076356585: ['AirMech']\n",
      "Predicted top 5 games for user 76561198076356585: ['Project X', 'Cognition: An Erica Reed Thriller', 'Farnham Fables', 'Rugby Challenge', 'Cult of the Wind']\n"
     ]
    },
    {
     "name": "stderr",
     "output_type": "stream",
     "text": [
      "Training epoch 16: 100%|██████████| 967/967 [00:07<00:00, 137.04it/s]\n"
     ]
    },
    {
     "name": "stdout",
     "output_type": "stream",
     "text": [
      "Epoch 16 - Training loss: 0.00012497483690763952\n"
     ]
    },
    {
     "name": "stderr",
     "output_type": "stream",
     "text": [
      "Validating epoch 16: 100%|██████████| 208/208 [00:00<00:00, 348.91it/s]\n"
     ]
    },
    {
     "name": "stdout",
     "output_type": "stream",
     "text": [
      "Epoch 16 - Validation loss: 0.001120771992191294, RMSE: 0.03340537169343868, Precision@5: 1.5557592269033195e-05\n",
      "Making predictions for random user mac085\n",
      "Actual top 5 games for user mac085: ['Moonbase Alpha', 'RaceRoom Racing Experience ']\n",
      "Predicted top 5 games for user mac085: ['Project X', 'Farnham Fables', 'Cult of the Wind', 'Devil May Cry® 4 Special Edition', 'Human: Fall Flat']\n"
     ]
    },
    {
     "name": "stderr",
     "output_type": "stream",
     "text": [
      "Training epoch 17: 100%|██████████| 967/967 [00:07<00:00, 134.78it/s]\n"
     ]
    },
    {
     "name": "stdout",
     "output_type": "stream",
     "text": [
      "Epoch 17 - Training loss: 0.0001175441355478952\n"
     ]
    },
    {
     "name": "stderr",
     "output_type": "stream",
     "text": [
      "Validating epoch 17: 100%|██████████| 208/208 [00:00<00:00, 347.21it/s]\n"
     ]
    },
    {
     "name": "stdout",
     "output_type": "stream",
     "text": [
      "Epoch 17 - Validation loss: 0.0011065854798219404, RMSE: 0.03320390335741441, Precision@5: 1.5557592269033195e-05\n",
      "Making predictions for random user 1136579070\n",
      "Actual top 5 games for user 1136579070: ['War Thunder']\n",
      "Predicted top 5 games for user 1136579070: ['Project X', 'Rugby Challenge', 'Dead Sea', 'Farnham Fables', 'Cult of the Wind']\n"
     ]
    },
    {
     "name": "stderr",
     "output_type": "stream",
     "text": [
      "Training epoch 18: 100%|██████████| 967/967 [00:07<00:00, 132.20it/s]\n"
     ]
    },
    {
     "name": "stdout",
     "output_type": "stream",
     "text": [
      "Epoch 18 - Training loss: 9.959842665569556e-05\n"
     ]
    },
    {
     "name": "stderr",
     "output_type": "stream",
     "text": [
      "Validating epoch 18: 100%|██████████| 208/208 [00:00<00:00, 350.08it/s]\n"
     ]
    },
    {
     "name": "stdout",
     "output_type": "stream",
     "text": [
      "Epoch 18 - Validation loss: 0.0010976365647016233, RMSE: 0.03308092799989435, Precision@5: 1.5557592269033195e-05\n",
      "Making predictions for random user gunfightgamer\n",
      "Actual top 5 games for user gunfightgamer: ['Saints Row 2', 'Terraria', 'The Elder Scrolls V: Skyrim']\n",
      "Predicted top 5 games for user gunfightgamer: ['Rugby Challenge', '99 Levels To Hell', 'Final Exam', 'Project X', 'Hearts of Iron III']\n"
     ]
    },
    {
     "name": "stderr",
     "output_type": "stream",
     "text": [
      "Training epoch 19: 100%|██████████| 967/967 [00:07<00:00, 132.00it/s]\n"
     ]
    },
    {
     "name": "stdout",
     "output_type": "stream",
     "text": [
      "Epoch 19 - Training loss: 9.48445538003822e-05\n"
     ]
    },
    {
     "name": "stderr",
     "output_type": "stream",
     "text": [
      "Validating epoch 19: 100%|██████████| 208/208 [00:00<00:00, 348.20it/s]\n"
     ]
    },
    {
     "name": "stdout",
     "output_type": "stream",
     "text": [
      "Epoch 19 - Validation loss: 0.0011447440694190357, RMSE: 0.033803494215935495, Precision@5: 1.5557592269033195e-05\n",
      "Making predictions for random user 76561198110641987\n",
      "Actual top 5 games for user 76561198110641987: ['Counter-Strike: Global Offensive']\n",
      "Predicted top 5 games for user 76561198110641987: ['Project X', 'Rugby Challenge', 'Dead Sea', 'The Isle', 'Cult of the Wind']\n"
     ]
    },
    {
     "name": "stderr",
     "output_type": "stream",
     "text": [
      "Training epoch 20: 100%|██████████| 967/967 [00:07<00:00, 127.17it/s]\n"
     ]
    },
    {
     "name": "stdout",
     "output_type": "stream",
     "text": [
      "Epoch 20 - Training loss: 8.628909066106454e-05\n"
     ]
    },
    {
     "name": "stderr",
     "output_type": "stream",
     "text": [
      "Validating epoch 20: 100%|██████████| 208/208 [00:00<00:00, 345.94it/s]\n"
     ]
    },
    {
     "name": "stdout",
     "output_type": "stream",
     "text": [
      "Epoch 20 - Validation loss: 0.0011242170164153392, RMSE: 0.03347044684423336, Precision@5: 1.5557592269033195e-05\n",
      "Making predictions for random user 76561198040149411\n",
      "Actual top 5 games for user 76561198040149411: ['Cry of Fear']\n",
      "Predicted top 5 games for user 76561198040149411: ['Farnham Fables', 'Project X', 'Rugby Challenge', 'Hero Zero', \"Broken Sword 1 - Shadow of the Templars: Director's Cut\"]\n"
     ]
    },
    {
     "name": "stderr",
     "output_type": "stream",
     "text": [
      "Training epoch 21: 100%|██████████| 967/967 [00:07<00:00, 135.00it/s]\n"
     ]
    },
    {
     "name": "stdout",
     "output_type": "stream",
     "text": [
      "Epoch 21 - Training loss: 7.913514446797581e-05\n"
     ]
    },
    {
     "name": "stderr",
     "output_type": "stream",
     "text": [
      "Validating epoch 21: 100%|██████████| 208/208 [00:00<00:00, 348.46it/s]\n"
     ]
    },
    {
     "name": "stdout",
     "output_type": "stream",
     "text": [
      "Epoch 21 - Validation loss: 0.0011006364490920252, RMSE: 0.03311458345424258, Precision@5: 1.5557592269033195e-05\n",
      "Making predictions for random user bruhbruhxd\n",
      "Actual top 5 games for user bruhbruhxd: ['Call of Duty: Black Ops III', 'DayZ', 'The Forest']\n",
      "Predicted top 5 games for user bruhbruhxd: ['Project X', 'Cult of the Wind', 'Farnham Fables', 'Hero Zero', \"Broken Sword 1 - Shadow of the Templars: Director's Cut\"]\n"
     ]
    },
    {
     "name": "stderr",
     "output_type": "stream",
     "text": [
      "Training epoch 22: 100%|██████████| 967/967 [00:07<00:00, 133.24it/s]\n"
     ]
    },
    {
     "name": "stdout",
     "output_type": "stream",
     "text": [
      "Epoch 22 - Training loss: 7.348077803440561e-05\n"
     ]
    },
    {
     "name": "stderr",
     "output_type": "stream",
     "text": [
      "Validating epoch 22: 100%|██████████| 208/208 [00:00<00:00, 361.02it/s]\n"
     ]
    },
    {
     "name": "stdout",
     "output_type": "stream",
     "text": [
      "Epoch 22 - Validation loss: 0.0011460054355176487, RMSE: 0.03378899752053865, Precision@5: 1.5557592269033195e-05\n",
      "Making predictions for random user ajar1000\n",
      "Actual top 5 games for user ajar1000: ['Counter-Strike: Global Offensive', 'PAYDAY 2', 'Portal 2', 'Left 4 Dead 2', 'Portal']\n",
      "Predicted top 5 games for user ajar1000: ['Project X', 'Hero Zero', 'Farnham Fables', 'Cult of the Wind', 'Cognition: An Erica Reed Thriller']\n"
     ]
    },
    {
     "name": "stderr",
     "output_type": "stream",
     "text": [
      "Training epoch 23: 100%|██████████| 967/967 [00:07<00:00, 134.54it/s]\n"
     ]
    },
    {
     "name": "stdout",
     "output_type": "stream",
     "text": [
      "Epoch 23 - Training loss: 6.547808802839246e-05\n"
     ]
    },
    {
     "name": "stderr",
     "output_type": "stream",
     "text": [
      "Validating epoch 23: 100%|██████████| 208/208 [00:00<00:00, 344.21it/s]\n"
     ]
    },
    {
     "name": "stdout",
     "output_type": "stream",
     "text": [
      "Epoch 23 - Validation loss: 0.0011597887674515033, RMSE: 0.033982609628995894, Precision@5: 1.5557592269033195e-05\n",
      "Making predictions for random user GalaxyExcalibur\n",
      "Actual top 5 games for user GalaxyExcalibur: ['Counter-Strike: Global Offensive', 'The Walking Dead', 'Sleeping Dogs™', 'Bad Rats']\n",
      "Predicted top 5 games for user GalaxyExcalibur: ['Project X', 'Rugby Challenge', 'Black Mesa', 'Cult of the Wind', 'Cognition: An Erica Reed Thriller']\n"
     ]
    },
    {
     "name": "stderr",
     "output_type": "stream",
     "text": [
      "Training epoch 24: 100%|██████████| 967/967 [00:07<00:00, 134.61it/s]\n"
     ]
    },
    {
     "name": "stdout",
     "output_type": "stream",
     "text": [
      "Epoch 24 - Training loss: 6.399540962429888e-05\n"
     ]
    },
    {
     "name": "stderr",
     "output_type": "stream",
     "text": [
      "Validating epoch 24: 100%|██████████| 208/208 [00:00<00:00, 346.71it/s]\n"
     ]
    },
    {
     "name": "stdout",
     "output_type": "stream",
     "text": [
      "Epoch 24 - Validation loss: 0.0011663194968955044, RMSE: 0.034114535429668524, Precision@5: 1.5557592269033195e-05\n",
      "Making predictions for random user MattMan1275\n",
      "Actual top 5 games for user MattMan1275: ['Arma 3']\n",
      "Predicted top 5 games for user MattMan1275: ['Project X', 'Cult of the Wind', 'Dead Sea', 'Test Drive Unlimited 2', 'Rugby Challenge']\n"
     ]
    },
    {
     "name": "stderr",
     "output_type": "stream",
     "text": [
      "Training epoch 25: 100%|██████████| 967/967 [00:07<00:00, 134.64it/s]\n"
     ]
    },
    {
     "name": "stdout",
     "output_type": "stream",
     "text": [
      "Epoch 25 - Training loss: 5.59867149485095e-05\n"
     ]
    },
    {
     "name": "stderr",
     "output_type": "stream",
     "text": [
      "Validating epoch 25: 100%|██████████| 208/208 [00:00<00:00, 347.13it/s]\n"
     ]
    },
    {
     "name": "stdout",
     "output_type": "stream",
     "text": [
      "Epoch 25 - Validation loss: 0.00114844729709008, RMSE: 0.033825706859127704, Precision@5: 1.5557592269033195e-05\n",
      "Making predictions for random user PatrioticSteam7\n",
      "Actual top 5 games for user PatrioticSteam7: [\"Sid Meier's Civilization V\", 'The Walking Dead', 'The Stanley Parable']\n",
      "Predicted top 5 games for user PatrioticSteam7: ['Project X', 'Farnham Fables', 'Hero Zero', \"Broken Sword 1 - Shadow of the Templars: Director's Cut\", 'Cult of the Wind']\n"
     ]
    },
    {
     "name": "stderr",
     "output_type": "stream",
     "text": [
      "Training epoch 26: 100%|██████████| 967/967 [00:07<00:00, 134.66it/s]\n"
     ]
    },
    {
     "name": "stdout",
     "output_type": "stream",
     "text": [
      "Epoch 26 - Training loss: 4.957420551053236e-05\n"
     ]
    },
    {
     "name": "stderr",
     "output_type": "stream",
     "text": [
      "Validating epoch 26: 100%|██████████| 208/208 [00:00<00:00, 335.02it/s]\n"
     ]
    },
    {
     "name": "stdout",
     "output_type": "stream",
     "text": [
      "Epoch 26 - Validation loss: 0.0011187665497625577, RMSE: 0.03339250983232185, Precision@5: 1.5557592269033195e-05\n",
      "Making predictions for random user supremexyeezy\n",
      "Actual top 5 games for user supremexyeezy: ['Counter-Strike: Global Offensive', 'Warframe']\n",
      "Predicted top 5 games for user supremexyeezy: ['Project X', 'Cult of the Wind', 'The Witcher 3: Wild Hunt', 'Rugby Challenge', 'Farnham Fables']\n"
     ]
    },
    {
     "name": "stderr",
     "output_type": "stream",
     "text": [
      "Training epoch 27: 100%|██████████| 967/967 [00:07<00:00, 137.92it/s]\n"
     ]
    },
    {
     "name": "stdout",
     "output_type": "stream",
     "text": [
      "Epoch 27 - Training loss: 4.789293777674931e-05\n"
     ]
    },
    {
     "name": "stderr",
     "output_type": "stream",
     "text": [
      "Validating epoch 27: 100%|██████████| 208/208 [00:00<00:00, 351.88it/s]\n"
     ]
    },
    {
     "name": "stdout",
     "output_type": "stream",
     "text": [
      "Epoch 27 - Validation loss: 0.0011482006128132455, RMSE: 0.033842922637460866, Precision@5: 1.5557592269033195e-05\n",
      "Making predictions for random user battle379\n",
      "Actual top 5 games for user battle379: ['Counter-Strike: Global Offensive']\n",
      "Predicted top 5 games for user battle379: ['Project X', 'Cult of the Wind', 'No Time to Explain', 'Rugby Challenge', 'Devil May Cry® 4 Special Edition']\n"
     ]
    },
    {
     "name": "stderr",
     "output_type": "stream",
     "text": [
      "Training epoch 28: 100%|██████████| 967/967 [00:07<00:00, 134.80it/s]\n"
     ]
    },
    {
     "name": "stdout",
     "output_type": "stream",
     "text": [
      "Epoch 28 - Training loss: 4.296665550489823e-05\n"
     ]
    },
    {
     "name": "stderr",
     "output_type": "stream",
     "text": [
      "Validating epoch 28: 100%|██████████| 208/208 [00:00<00:00, 347.38it/s]\n"
     ]
    },
    {
     "name": "stdout",
     "output_type": "stream",
     "text": [
      "Epoch 28 - Validation loss: 0.0011507694085034577, RMSE: 0.03385617043146664, Precision@5: 1.5557592269033195e-05\n",
      "Making predictions for random user Avondale71\n",
      "Actual top 5 games for user Avondale71: ['Dishonored', \"Don't Starve\", 'Diabolical']\n",
      "Predicted top 5 games for user Avondale71: ['Project X', 'Farnham Fables', 'Cult of the Wind', 'Rugby Challenge', \"Broken Sword 1 - Shadow of the Templars: Director's Cut\"]\n"
     ]
    },
    {
     "name": "stderr",
     "output_type": "stream",
     "text": [
      "Training epoch 29: 100%|██████████| 967/967 [00:07<00:00, 133.45it/s]\n"
     ]
    },
    {
     "name": "stdout",
     "output_type": "stream",
     "text": [
      "Epoch 29 - Training loss: 3.703442089336643e-05\n"
     ]
    },
    {
     "name": "stderr",
     "output_type": "stream",
     "text": [
      "Validating epoch 29: 100%|██████████| 208/208 [00:00<00:00, 348.04it/s]\n"
     ]
    },
    {
     "name": "stdout",
     "output_type": "stream",
     "text": [
      "Epoch 29 - Validation loss: 0.001125624546462999, RMSE: 0.03348567247235583, Precision@5: 1.5557592269033195e-05\n",
      "Making predictions for random user 76561198058582598\n",
      "Actual top 5 games for user 76561198058582598: ['Broforce']\n",
      "Predicted top 5 games for user 76561198058582598: ['Cult of the Wind', 'Project X', '99 Levels To Hell', 'No Time to Explain', 'Poly Bridge']\n"
     ]
    },
    {
     "name": "stderr",
     "output_type": "stream",
     "text": [
      "Training epoch 30: 100%|██████████| 967/967 [00:07<00:00, 133.26it/s]\n"
     ]
    },
    {
     "name": "stdout",
     "output_type": "stream",
     "text": [
      "Epoch 30 - Training loss: 3.600591962107559e-05\n"
     ]
    },
    {
     "name": "stderr",
     "output_type": "stream",
     "text": [
      "Validating epoch 30: 100%|██████████| 208/208 [00:00<00:00, 339.15it/s]\n"
     ]
    },
    {
     "name": "stdout",
     "output_type": "stream",
     "text": [
      "Epoch 30 - Validation loss: 0.001165318734540331, RMSE: 0.03408550330842243, Precision@5: 1.5557592269033195e-05\n",
      "Making predictions for random user the1Nonly\n",
      "Actual top 5 games for user the1Nonly: ['Pirates, Vikings, & Knights II']\n",
      "Predicted top 5 games for user the1Nonly: ['Project X', 'Rugby Challenge', 'The Isle', 'Cult of the Wind', 'Farnham Fables']\n"
     ]
    },
    {
     "name": "stderr",
     "output_type": "stream",
     "text": [
      "Training epoch 31: 100%|██████████| 967/967 [00:07<00:00, 133.98it/s]\n"
     ]
    },
    {
     "name": "stdout",
     "output_type": "stream",
     "text": [
      "Epoch 31 - Training loss: 3.60799033908413e-05\n"
     ]
    },
    {
     "name": "stderr",
     "output_type": "stream",
     "text": [
      "Validating epoch 31: 100%|██████████| 208/208 [00:00<00:00, 332.67it/s]\n"
     ]
    },
    {
     "name": "stdout",
     "output_type": "stream",
     "text": [
      "Epoch 31 - Validation loss: 0.0011462355656266692, RMSE: 0.033792754478732145, Precision@5: 1.5557592269033195e-05\n",
      "Making predictions for random user 76561198064243876\n",
      "Actual top 5 games for user 76561198064243876: ['Realm of the Mad God']\n",
      "Predicted top 5 games for user 76561198064243876: ['Project X', 'Rugby Challenge', 'Cult of the Wind', 'Farnham Fables', 'Cognition: An Erica Reed Thriller']\n"
     ]
    },
    {
     "name": "stderr",
     "output_type": "stream",
     "text": [
      "Training epoch 32:  22%|██▏       | 208/967 [00:01<00:05, 132.83it/s]\n"
     ]
    },
    {
     "ename": "KeyboardInterrupt",
     "evalue": "",
     "output_type": "error",
     "traceback": [
      "\u001b[0;31m---------------------------------------------------------------------------\u001b[0m",
      "\u001b[0;31mKeyboardInterrupt\u001b[0m                         Traceback (most recent call last)",
      "\u001b[1;32m/Volumes/DeepLearner/Search & Recommendation System/Steam Recommendation System/steam_recommendation_system/pipeline_v2.ipynb Cell 9\u001b[0m line \u001b[0;36m5\n\u001b[1;32m     <a href='vscode-notebook-cell:/Volumes/DeepLearner/Search%20%26%20Recommendation%20System/Steam%20Recommendation%20System/steam_recommendation_system/pipeline_v2.ipynb#W4sZmlsZQ%3D%3D?line=48'>49</a>\u001b[0m \u001b[39m# Move to device\u001b[39;00m\n\u001b[1;32m     <a href='vscode-notebook-cell:/Volumes/DeepLearner/Search%20%26%20Recommendation%20System/Steam%20Recommendation%20System/steam_recommendation_system/pipeline_v2.ipynb#W4sZmlsZQ%3D%3D?line=49'>50</a>\u001b[0m X_batch, y_batch \u001b[39m=\u001b[39m X_batch\u001b[39m.\u001b[39mto(device), y_batch\u001b[39m.\u001b[39mto(device)\n\u001b[0;32m---> <a href='vscode-notebook-cell:/Volumes/DeepLearner/Search%20%26%20Recommendation%20System/Steam%20Recommendation%20System/steam_recommendation_system/pipeline_v2.ipynb#W4sZmlsZQ%3D%3D?line=50'>51</a>\u001b[0m user_ids, item_ids \u001b[39m=\u001b[39m user_ids\u001b[39m.\u001b[39;49mto(device), item_ids\u001b[39m.\u001b[39mto(device)\n\u001b[1;32m     <a href='vscode-notebook-cell:/Volumes/DeepLearner/Search%20%26%20Recommendation%20System/Steam%20Recommendation%20System/steam_recommendation_system/pipeline_v2.ipynb#W4sZmlsZQ%3D%3D?line=52'>53</a>\u001b[0m \u001b[39m# Zero the parameter gradients\u001b[39;00m\n\u001b[1;32m     <a href='vscode-notebook-cell:/Volumes/DeepLearner/Search%20%26%20Recommendation%20System/Steam%20Recommendation%20System/steam_recommendation_system/pipeline_v2.ipynb#W4sZmlsZQ%3D%3D?line=53'>54</a>\u001b[0m optimizer\u001b[39m.\u001b[39mzero_grad()\n",
      "\u001b[0;31mKeyboardInterrupt\u001b[0m: "
     ]
    }
   ],
   "source": [
    "from sklearn.metrics import mean_squared_error\n",
    "from math import sqrt\n",
    "# Initialize model, optimizer, and loss function\n",
    "model = HybridModel(num_users=len(user_mapping), num_items=len(item_mapping), num_text_features=5000, embedding_dim=10)\n",
    "optimizer = torch.optim.Adam(model.parameters(), lr=0.001)\n",
    "criterion = nn.MSELoss()\n",
    "\n",
    "# Move model to device\n",
    "model = model.to(device)\n",
    "\n",
    "# Number of epochs\n",
    "n_epochs = 1000\n",
    "\n",
    "def precision_at_k(y_true, y_pred, k):\n",
    "    # Sort by predicted score and take top k\n",
    "    top_k_items = np.argsort(y_pred)[::-1][:k]\n",
    "    # Count number of true positives in top k\n",
    "    true_positives = np.sum(y_true[top_k_items])\n",
    "    return true_positives / k\n",
    "\n",
    "import random\n",
    "\n",
    "def predict_for_random_user(model, user_mapping, item_mapping, merged_df, tfidf_matrix, k=5):\n",
    "    # Randomly select a user ID\n",
    "    random_user_id = random.choice(list(user_mapping.keys()))\n",
    "    print(f\"Making predictions for random user {random_user_id}\")\n",
    "    \n",
    "    # Call the existing function to make predictions for this user\n",
    "    top_k_games = get_predicted_top_k_games(model, random_user_id, user_mapping, item_mapping, merged_df, tfidf_matrix, k)\n",
    "    return random_user_id, top_k_games\n",
    "\n",
    "for epoch in range(1, n_epochs + 1):\n",
    "    \n",
    "    # Training loop\n",
    "    model.train()\n",
    "    train_loss = 0.0\n",
    "    for batch_data in tqdm(train_loader, desc=f\"Training epoch {epoch}\"):\n",
    "        X_batch, y_batch, user_ids, item_ids = batch_data\n",
    "        \n",
    "        #print(f\"X_batch dtype: {X_batch.dtype}\")\n",
    "       # print(f\"y_batch dtype: {y_batch.dtype}\")\n",
    "       # print(f\"user_ids dtype: {user_ids.dtype}\")\n",
    "       # print(f\"item_ids dtype: {item_ids.dtype}\")\n",
    "        \n",
    "        # Convert to float32 if needed\n",
    "        X_batch, y_batch = X_batch.float(), y_batch.float()\n",
    "        user_ids, item_ids = user_ids.long(), item_ids.long()\n",
    "\n",
    "        # Move to device\n",
    "        X_batch, y_batch = X_batch.to(device), y_batch.to(device)\n",
    "        user_ids, item_ids = user_ids.to(device), item_ids.to(device)\n",
    "\n",
    "        # Zero the parameter gradients\n",
    "        optimizer.zero_grad()\n",
    "\n",
    "        # Forward + backward + optimize\n",
    "        outputs = model(user_ids, item_ids, X_batch)\n",
    "        loss = criterion(outputs.squeeze(), y_batch)\n",
    "        loss.backward()\n",
    "        optimizer.step()\n",
    "\n",
    "        train_loss += loss.item()\n",
    "    \n",
    "    train_loss /= len(train_loader)\n",
    "    print(f\"Epoch {epoch} - Training loss: {train_loss}\")\n",
    "    \n",
    "    # Validation loop\n",
    "    model.eval()\n",
    "    y_true_val = []\n",
    "    y_pred_val = []\n",
    "    val_loss = 0.0\n",
    "    with torch.no_grad():\n",
    "        for batch_data in tqdm(val_loader, desc=f\"Validating epoch {epoch}\"):\n",
    "            X_batch, y_batch, user_ids, item_ids = batch_data\n",
    "            X_batch, y_batch = X_batch.float(), y_batch.float()\n",
    "            user_ids, item_ids = user_ids.long(), item_ids.long()\n",
    "\n",
    "            # Move to device\n",
    "            X_batch, y_batch = X_batch.to(device), y_batch.to(device)\n",
    "            user_ids, item_ids = user_ids.to(device), item_ids.to(device)\n",
    "\n",
    "\n",
    "            outputs = model(user_ids, item_ids, X_batch)\n",
    "            loss = criterion(outputs.squeeze(), y_batch)\n",
    "            \n",
    "            val_loss += loss.item()\n",
    "            y_true_val.extend(y_batch.cpu().numpy())\n",
    "            y_pred_val.extend(outputs.cpu().numpy())\n",
    "    \n",
    "    val_loss /= len(val_loader)\n",
    "    val_rmse = sqrt(mean_squared_error(y_true_val, y_pred_val))\n",
    "    val_precision_at_k = precision_at_k(np.array(y_true_val), np.array(y_pred_val), k=5)\n",
    "    \n",
    "    print(f\"Epoch {epoch} - Validation loss: {val_loss}, RMSE: {val_rmse}, Precision@5: {val_precision_at_k}\")\n",
    "\n",
    "    # Display top-k games for a sample user (let's say the first user in our dataset)\n",
    "    #sample_user_id = list(user_mapping.keys())[0]\n",
    "\n",
    "    random_user_id, random_top_k_games = predict_for_random_user(model, user_mapping, item_mapping, merged_df, tfidf_matrix)\n",
    "    print(f\"Actual top 5 games for user {random_user_id}: {get_actual_top_k_games(user_mapping[random_user_id], merged_df)}\")\n",
    "    print(f\"Predicted top 5 games for user {random_user_id}: {random_top_k_games}\")"
   ]
  },
  {
   "cell_type": "code",
   "execution_count": null,
   "metadata": {},
   "outputs": [],
   "source": []
  },
  {
   "cell_type": "code",
   "execution_count": null,
   "metadata": {},
   "outputs": [],
   "source": []
  }
 ],
 "metadata": {
  "kernelspec": {
   "display_name": "Python 3",
   "language": "python",
   "name": "python3"
  },
  "language_info": {
   "codemirror_mode": {
    "name": "ipython",
    "version": 3
   },
   "file_extension": ".py",
   "mimetype": "text/x-python",
   "name": "python",
   "nbconvert_exporter": "python",
   "pygments_lexer": "ipython3",
   "version": "3.11.2"
  },
  "orig_nbformat": 4
 },
 "nbformat": 4,
 "nbformat_minor": 2
}
